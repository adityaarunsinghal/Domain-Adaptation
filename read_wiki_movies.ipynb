{
 "metadata": {
  "language_info": {
   "codemirror_mode": {
    "name": "ipython",
    "version": 3
   },
   "file_extension": ".py",
   "mimetype": "text/x-python",
   "name": "python",
   "nbconvert_exporter": "python",
   "pygments_lexer": "ipython3",
   "version": "3.8.6"
  },
  "orig_nbformat": 2,
  "kernelspec": {
   "name": "python3",
   "display_name": "Python 3",
   "language": "python"
  }
 },
 "nbformat": 4,
 "nbformat_minor": 2,
 "cells": [
  {
   "cell_type": "code",
   "execution_count": 2,
   "metadata": {},
   "outputs": [],
   "source": [
    "import pandas as pd\n",
    "import joblib\n",
    "import random"
   ]
  },
  {
   "cell_type": "code",
   "execution_count": 61,
   "metadata": {},
   "outputs": [],
   "source": [
    "# defining function to read files and store as nested lists\n",
    "\n",
    "def read_wiki(filepath):\n",
    "    data = pd.read_csv(filepath, sep=\"\\t\")\n",
    "    data.columns = ['question', 'answer']\n",
    "    data['question'] = data.question.apply(lambda x: x[2:])\n",
    "    data.set_index('question', inplace=True)\n",
    "    return data"
   ]
  },
  {
   "cell_type": "code",
   "execution_count": 62,
   "metadata": {},
   "outputs": [],
   "source": [
    "read_wiki(\"movie_roberta/data/full_qa_train.txt\").to_csv(\"movie_roberta/data/full_qa_train.csv\")\n",
    "read_wiki(\"movie_roberta/data/full_qa_dev.txt\").to_csv(\"movie_roberta/data/full_qa_dev.csv\")\n",
    "read_wiki(\"movie_roberta/data/full_qa_test.txt\").to_csv(\"movie_roberta/data/full_qa_test.csv\")"
   ]
  },
  {
   "cell_type": "code",
   "execution_count": 21,
   "metadata": {},
   "outputs": [],
   "source": [
    "# f = open(\"/Users/aditya/Downloads/movie_lines.txt\", \"r\", errors=\"ignore\")\n",
    "# data = f.read()"
   ]
  },
  {
   "cell_type": "code",
   "execution_count": 23,
   "metadata": {},
   "outputs": [],
   "source": [
    "# new = open(\"/Users/aditya/Downloads/cornell_movie_lines.txt\", \"w\")\n",
    "# for each in data.splitlines():\n",
    "#     new.write(each[each.rfind(' +++$+++ ')+9:] + \" \")"
   ]
  },
  {
   "cell_type": "code",
   "execution_count": 35,
   "metadata": {},
   "outputs": [],
   "source": [
    "# data = pd.read_csv(\"/Users/aditya/Documents/GitHub/Domain-Adaptation/data/simple_movie_text_MLM/kaggle_movie_set/movies_metadata.csv\")"
   ]
  },
  {
   "cell_type": "code",
   "execution_count": 37,
   "metadata": {},
   "outputs": [],
   "source": [
    "# data.fillna('', inplace=True)"
   ]
  },
  {
   "cell_type": "code",
   "execution_count": 45,
   "metadata": {},
   "outputs": [],
   "source": [
    "# new = open(\"/Users/aditya/Downloads/movie_metadata.txt\", \"w\")\n",
    "# for each in list(data['overview'] + \" \" + data['tagline']  + \" \" + data['title']):\n",
    "#     new.write(each + \" \")\n"
   ]
  },
  {
   "cell_type": "code",
   "execution_count": 47,
   "metadata": {},
   "outputs": [],
   "source": [
    "# f = open(\"data/simple_movie_text_MLM/polarity_movie_html_data.txt\", \"r\")\n",
    "# data = f.read()"
   ]
  },
  {
   "cell_type": "code",
   "execution_count": 52,
   "metadata": {},
   "outputs": [
    {
     "output_type": "execute_result",
     "data": {
      "text/plain": [
       "67932991"
      ]
     },
     "metadata": {},
     "execution_count": 52
    }
   ],
   "source": [
    "# new = open(\"data/simple_movie_text_MLM/polarity_movie_html_data_1.txt\", \"w\")\n",
    "# new.write(data[:round(len(data)/2)])\n",
    "# new = open(\"data/simple_movie_text_MLM/polarity_movie_html_data_2.txt\", \"w\")\n",
    "# new.write(data[round(len(data)/2):])"
   ]
  },
  {
   "cell_type": "code",
   "execution_count": null,
   "metadata": {},
   "outputs": [],
   "source": []
  }
 ]
}