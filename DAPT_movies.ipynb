{
 "metadata": {
  "language_info": {
   "codemirror_mode": {
    "name": "ipython",
    "version": 3
   },
   "file_extension": ".py",
   "mimetype": "text/x-python",
   "name": "python",
   "nbconvert_exporter": "python",
   "pygments_lexer": "ipython3",
   "version": "3.8.2-final"
  },
  "orig_nbformat": 2,
  "kernelspec": {
   "name": "python3",
   "display_name": "Python 3.8.2 64-bit ('domain')",
   "metadata": {
    "interpreter": {
     "hash": "9d1615575a7d537b6ee537e41328441bde2e472fe1b058d16fae32f436586301"
    }
   }
  }
 },
 "nbformat": 4,
 "nbformat_minor": 2,
 "cells": [
  {
   "cell_type": "code",
   "execution_count": 9,
   "metadata": {},
   "outputs": [],
   "source": [
    "from pathlib import Path\n",
    "# import tokenizers\n",
    "# import pandas as pd"
   ]
  },
  {
   "cell_type": "code",
   "execution_count": null,
   "metadata": {},
   "outputs": [],
   "source": [
    "paths = [\"http://ai.stanford.edu/~amaas/data/sentiment/aclImdb_v1.tar.gz\", \"https://files.grouplens.org/datasets/movielens/ml-25m.zip\", \"http://www.cs.cornell.edu/people/pabo/movie-review-data/polarity_html.zip\", \"http://www.cs.cornell.edu/~cristian/data/cornell_movie_dialogs_corpus.zip\", \"https://www.kaggle.com/rounakbanik/the-movies-dataset/download\", \"https://www.kaggle.com/danielgrijalvas/movies/download\"]"
   ]
  }
 ]
}