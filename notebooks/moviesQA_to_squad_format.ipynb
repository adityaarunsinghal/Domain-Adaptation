{
 "metadata": {
  "language_info": {
   "codemirror_mode": {
    "name": "ipython",
    "version": 3
   },
   "file_extension": ".py",
   "mimetype": "text/x-python",
   "name": "python",
   "nbconvert_exporter": "python",
   "pygments_lexer": "ipython3",
   "version": "3.8.6"
  },
  "orig_nbformat": 2,
  "kernelspec": {
   "name": "python386jvsc74a57bd00cbb398e7fa080eddefa05a938b6b2d0bd9fb13bad6d642a712d30be3d64f672",
   "display_name": "Python 3.8.6 64-bit ('3.8.6': pyenv)"
  }
 },
 "nbformat": 4,
 "nbformat_minor": 2,
 "cells": [
  {
   "cell_type": "code",
   "execution_count": 1,
   "metadata": {},
   "outputs": [],
   "source": [
    "import pandas as pd\n",
    "import json"
   ]
  },
  {
   "cell_type": "code",
   "execution_count": 17,
   "metadata": {},
   "outputs": [],
   "source": [
    "f = open(\"../datasets/movies/data_for_inspection(scp-ed)/squad.film.test.json\", \"r\")\n",
    "data = json.load(f)\n",
    "# print(f.readlines()[494]) "
   ]
  },
  {
   "cell_type": "code",
   "execution_count": 18,
   "metadata": {},
   "outputs": [],
   "source": [
    "df = pd.DataFrame(columns=['id', 'title', 'context', 'question', 'answers'])\n",
    "\n",
    "for i in range(len(data['data'])):\n",
    "    row_dict = dict.fromkeys(['id', 'title', 'context', 'question', 'answers'])\n",
    "\n",
    "    item = data['data'][i]['paragraphs'][0]\n",
    "    row_dict['context'] = item['context']\n",
    "    qa = item['qas'][0]\n",
    "    row_dict['question'] =  qa['question']\n",
    "    row_dict['id'] =  str(i)\n",
    "    row_dict['title'] =  str(qa['id'])\n",
    "    ans = qa['answers'][0]\n",
    "    new_ans_dict = {\n",
    "        'answer_start' : [ans['answer_start']], \n",
    "        \"text\" : [ans['text']]\n",
    "    }\n",
    "    row_dict['answers'] = new_ans_dict\n",
    "\n",
    "    df = df.append(row_dict, ignore_index=True)\n"
   ]
  },
  {
   "cell_type": "code",
   "execution_count": 23,
   "metadata": {},
   "outputs": [],
   "source": [
    "df.set_index(\"id\", inplace=True)"
   ]
  },
  {
   "cell_type": "code",
   "execution_count": 25,
   "metadata": {},
   "outputs": [],
   "source": [
    "df.to_json(r\"../datasets/movies/data_for_inspection(scp-ed)/squad.film.test.json\", orient='records', lines=True)"
   ]
  },
  {
   "cell_type": "code",
   "execution_count": 24,
   "metadata": {},
   "outputs": [],
   "source": [
    "df.to_csv(\"../datasets/movies/data_for_inspection(scp-ed)/squad.film.test.csv\")"
   ]
  },
  {
   "cell_type": "code",
   "execution_count": null,
   "metadata": {},
   "outputs": [],
   "source": []
  }
 ]
}