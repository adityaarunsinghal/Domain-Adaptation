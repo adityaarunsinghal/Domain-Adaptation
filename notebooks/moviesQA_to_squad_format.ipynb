{
 "metadata": {
  "language_info": {
   "codemirror_mode": {
    "name": "ipython",
    "version": 3
   },
   "file_extension": ".py",
   "mimetype": "text/x-python",
   "name": "python",
   "nbconvert_exporter": "python",
   "pygments_lexer": "ipython3",
   "version": "3.8.6"
  },
  "orig_nbformat": 2,
  "kernelspec": {
   "name": "python386jvsc74a57bd00cbb398e7fa080eddefa05a938b6b2d0bd9fb13bad6d642a712d30be3d64f672",
   "display_name": "Python 3.8.6 64-bit ('3.8.6': pyenv)"
  }
 },
 "nbformat": 4,
 "nbformat_minor": 2,
 "cells": [
  {
   "cell_type": "code",
   "execution_count": 1,
   "metadata": {},
   "outputs": [],
   "source": [
    "import pandas as pd\n",
    "import json"
   ]
  },
  {
   "cell_type": "code",
   "execution_count": 21,
   "metadata": {},
   "outputs": [],
   "source": [
    "f = open(\"../datasets/movies/data_for_inspection(scp-ed)/squad.film.test.json\", \"r\")\n",
    "data = json.load(f)"
   ]
  },
  {
   "cell_type": "code",
   "execution_count": 54,
   "metadata": {},
   "outputs": [],
   "source": [
    "df = pd.DataFrame(columns=['id', 'title', 'context', 'question', 'answers'])\n",
    "\n",
    "for i in range(len(data['data'])):\n",
    "    row_dict = dict.fromkeys(['id', 'title', 'context', 'question', 'answers'])\n",
    "\n",
    "    item = data['data'][i]['paragraphs'][0]\n",
    "    row_dict['context'] = item['context']\n",
    "    qa = item['qas'][0]\n",
    "    row_dict['question'] =  qa['question']\n",
    "    row_dict['id'] =  str(i)\n",
    "    row_dict['title'] =  str(qa['id'])\n",
    "    ans = qa['answers'][0]\n",
    "    new_ans_dict = {\n",
    "        'answer_start' : [ans['answer_start']], \n",
    "        \"text\" : [ans['text']]\n",
    "    }\n",
    "    row_dict['answers'] = new_ans_dict\n",
    "\n",
    "    df = df.append(row_dict, ignore_index=True)\n"
   ]
  },
  {
   "cell_type": "code",
   "execution_count": 55,
   "metadata": {},
   "outputs": [
    {
     "output_type": "execute_result",
     "data": {
      "text/plain": [
       "      id     title                                            context  \\\n",
       "0      0  279976_7  The Sea of Monsters received good reviews and ...   \n",
       "1      1   55034_0  Bob Parr is the first human protagonist in a P...   \n",
       "2      2  502718_2  Ghost Town is derived from classics It's A Won...   \n",
       "3      3  340675_1  Sure, you know the cat-eating alien hails from...   \n",
       "4      4  461640_2  Gina Carano would be a way better Wonder Woman...   \n",
       "..   ...       ...                                                ...   \n",
       "750  750  290114_4  So far there are five movies about Naruto, thr...   \n",
       "751  751  501377_1  Lawrence has appeared in at least 10 movies, i...   \n",
       "752  752  580117_3  Barkley is a Muppet dog who appears on Sesame ...   \n",
       "753  753   83528_9  Starring: Joseph Gordon-Levitt, Melissa Leo, S...   \n",
       "754  754  298395_1  Is it true that the average person touches the...   \n",
       "\n",
       "                                        question  \\\n",
       "0                how many copies of sea monsters   \n",
       "1                                bob par meaning   \n",
       "2                            stars in ghost town   \n",
       "3                                how tall is alf   \n",
       "4         name of actress who plays wonder woman   \n",
       "..                                           ...   \n",
       "750                       how many movies naruto   \n",
       "751              spike lee movie Martin Lawrence   \n",
       "752                 what breed of dog is barkley   \n",
       "753                              cast of snowden   \n",
       "754  how many times do you touch your face a day   \n",
       "\n",
       "                                               answers  \n",
       "0         {'answer_start': [168], 'text': ['100,000']}  \n",
       "1    {'answer_start': [0], 'text': ['Bob Parr is th...  \n",
       "2         {'answer_start': [145], 'text': ['Gervais']}  \n",
       "3    {'answer_start': [325], 'text': ['two feet nin...  \n",
       "4       {'answer_start': [0], 'text': ['Gina Carano']}  \n",
       "..                                                 ...  \n",
       "750           {'answer_start': [17], 'text': ['five']}  \n",
       "751  {'answer_start': [83], 'text': ['Do the Right ...  \n",
       "752  {'answer_start': [11], 'text': ['a Muppet dog ...  \n",
       "753  {'answer_start': [10], 'text': ['Joseph Gordon...  \n",
       "754  {'answer_start': [232], 'text': ['16 times an ...  \n",
       "\n",
       "[755 rows x 5 columns]"
      ],
      "text/html": "<div>\n<style scoped>\n    .dataframe tbody tr th:only-of-type {\n        vertical-align: middle;\n    }\n\n    .dataframe tbody tr th {\n        vertical-align: top;\n    }\n\n    .dataframe thead th {\n        text-align: right;\n    }\n</style>\n<table border=\"1\" class=\"dataframe\">\n  <thead>\n    <tr style=\"text-align: right;\">\n      <th></th>\n      <th>id</th>\n      <th>title</th>\n      <th>context</th>\n      <th>question</th>\n      <th>answers</th>\n    </tr>\n  </thead>\n  <tbody>\n    <tr>\n      <th>0</th>\n      <td>0</td>\n      <td>279976_7</td>\n      <td>The Sea of Monsters received good reviews and ...</td>\n      <td>how many copies of sea monsters</td>\n      <td>{'answer_start': [168], 'text': ['100,000']}</td>\n    </tr>\n    <tr>\n      <th>1</th>\n      <td>1</td>\n      <td>55034_0</td>\n      <td>Bob Parr is the first human protagonist in a P...</td>\n      <td>bob par meaning</td>\n      <td>{'answer_start': [0], 'text': ['Bob Parr is th...</td>\n    </tr>\n    <tr>\n      <th>2</th>\n      <td>2</td>\n      <td>502718_2</td>\n      <td>Ghost Town is derived from classics It's A Won...</td>\n      <td>stars in ghost town</td>\n      <td>{'answer_start': [145], 'text': ['Gervais']}</td>\n    </tr>\n    <tr>\n      <th>3</th>\n      <td>3</td>\n      <td>340675_1</td>\n      <td>Sure, you know the cat-eating alien hails from...</td>\n      <td>how tall is alf</td>\n      <td>{'answer_start': [325], 'text': ['two feet nin...</td>\n    </tr>\n    <tr>\n      <th>4</th>\n      <td>4</td>\n      <td>461640_2</td>\n      <td>Gina Carano would be a way better Wonder Woman...</td>\n      <td>name of actress who plays wonder woman</td>\n      <td>{'answer_start': [0], 'text': ['Gina Carano']}</td>\n    </tr>\n    <tr>\n      <th>...</th>\n      <td>...</td>\n      <td>...</td>\n      <td>...</td>\n      <td>...</td>\n      <td>...</td>\n    </tr>\n    <tr>\n      <th>750</th>\n      <td>750</td>\n      <td>290114_4</td>\n      <td>So far there are five movies about Naruto, thr...</td>\n      <td>how many movies naruto</td>\n      <td>{'answer_start': [17], 'text': ['five']}</td>\n    </tr>\n    <tr>\n      <th>751</th>\n      <td>751</td>\n      <td>501377_1</td>\n      <td>Lawrence has appeared in at least 10 movies, i...</td>\n      <td>spike lee movie Martin Lawrence</td>\n      <td>{'answer_start': [83], 'text': ['Do the Right ...</td>\n    </tr>\n    <tr>\n      <th>752</th>\n      <td>752</td>\n      <td>580117_3</td>\n      <td>Barkley is a Muppet dog who appears on Sesame ...</td>\n      <td>what breed of dog is barkley</td>\n      <td>{'answer_start': [11], 'text': ['a Muppet dog ...</td>\n    </tr>\n    <tr>\n      <th>753</th>\n      <td>753</td>\n      <td>83528_9</td>\n      <td>Starring: Joseph Gordon-Levitt, Melissa Leo, S...</td>\n      <td>cast of snowden</td>\n      <td>{'answer_start': [10], 'text': ['Joseph Gordon...</td>\n    </tr>\n    <tr>\n      <th>754</th>\n      <td>754</td>\n      <td>298395_1</td>\n      <td>Is it true that the average person touches the...</td>\n      <td>how many times do you touch your face a day</td>\n      <td>{'answer_start': [232], 'text': ['16 times an ...</td>\n    </tr>\n  </tbody>\n</table>\n<p>755 rows × 5 columns</p>\n</div>"
     },
     "metadata": {},
     "execution_count": 55
    }
   ],
   "source": [
    "df"
   ]
  },
  {
   "cell_type": "code",
   "execution_count": 56,
   "metadata": {},
   "outputs": [],
   "source": [
    "df.to_json(r\"../datasets/movies/data_for_inspection(scp-ed)/squad.film.test.json\", orient='records', lines=True)"
   ]
  },
  {
   "cell_type": "code",
   "execution_count": null,
   "metadata": {},
   "outputs": [],
   "source": []
  }
 ]
}