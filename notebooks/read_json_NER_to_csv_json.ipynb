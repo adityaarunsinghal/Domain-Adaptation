{
 "metadata": {
  "language_info": {
   "codemirror_mode": {
    "name": "ipython",
    "version": 3
   },
   "file_extension": ".py",
   "mimetype": "text/x-python",
   "name": "python",
   "nbconvert_exporter": "python",
   "pygments_lexer": "ipython3",
   "version": "3.8.6"
  },
  "orig_nbformat": 2,
  "kernelspec": {
   "name": "python386jvsc74a57bd00cbb398e7fa080eddefa05a938b6b2d0bd9fb13bad6d642a712d30be3d64f672",
   "display_name": "Python 3.8.6 64-bit ('3.8.6': pyenv)"
  },
  "metadata": {
   "interpreter": {
    "hash": "2858890bae232c5a2eafb41676f76863dbb689e94c5d0ec3cf4073896e5bad9e"
   }
  }
 },
 "nbformat": 4,
 "nbformat_minor": 2,
 "cells": [
  {
   "cell_type": "code",
   "execution_count": 30,
   "metadata": {},
   "outputs": [],
   "source": [
    "import pandas as pd\n",
    "import joblib\n",
    "import random\n",
    "import json"
   ]
  },
  {
   "cell_type": "code",
   "execution_count": 31,
   "metadata": {},
   "outputs": [],
   "source": [
    "trivia_X_train = pd.Series(joblib.load(\"../datasets/movies/MIT_movie_NER/nested_lists/trivia_X_train\"))\n",
    "trivia_y_train = pd.Series(joblib.load(\"../datasets/movies/MIT_movie_NER/nested_lists/trivia_y_train\"))\n",
    "trivia_X_test = pd.Series(joblib.load(\"../datasets/movies/MIT_movie_NER/nested_lists/trivia_X_test\"))\n",
    "trivia_y_test = pd.Series(joblib.load(\"../datasets/movies/MIT_movie_NER/nested_lists/trivia_y_test\"))\n",
    "trivia_X_val = pd.Series(joblib.load(\"../datasets/movies/MIT_movie_NER/nested_lists/trivia_X_val\"))\n",
    "trivia_y_val = pd.Series(joblib.load(\"../datasets/movies/MIT_movie_NER/nested_lists/trivia_y_val\"))"
   ]
  },
  {
   "cell_type": "code",
   "execution_count": 32,
   "metadata": {},
   "outputs": [
    {
     "output_type": "execute_result",
     "data": {
      "text/plain": [
       "20"
      ]
     },
     "metadata": {},
     "execution_count": 32
    }
   ],
   "source": [
    "len(trivia_X_train[2])"
   ]
  },
  {
   "cell_type": "code",
   "execution_count": 33,
   "metadata": {},
   "outputs": [
    {
     "output_type": "execute_result",
     "data": {
      "text/plain": [
       "20"
      ]
     },
     "metadata": {},
     "execution_count": 33
    }
   ],
   "source": [
    "len(trivia_y_train[2])"
   ]
  },
  {
   "cell_type": "code",
   "execution_count": 34,
   "metadata": {},
   "outputs": [],
   "source": [
    "# path = \"data/MIT_movie_NER/original_files/trivia10k13train.bio\"\n",
    "# save_path = \"data/MIT_movie_NER/csv_format/trivia_training.csv\"\n",
    "\n",
    "# data = pd.read_csv(path, header=None)\n",
    "# df = pd.DataFrame(columns=[\"token\", \"ner_tag\"])\n",
    "# df['token'], df['ner_tag'] = list(zip(*data[0].str.split(\"\\t\")))\n",
    "# df.to_csv(save_path)"
   ]
  },
  {
   "cell_type": "code",
   "execution_count": 35,
   "metadata": {},
   "outputs": [],
   "source": [
    "mapper_list = ['B-Actor',\n",
    " 'B-Award',\n",
    " 'B-Character_Name',\n",
    " 'B-Director',\n",
    " 'B-Genre',\n",
    " 'B-Opinion',\n",
    " 'B-Origin',\n",
    " 'B-Plot',\n",
    " 'B-Quote',\n",
    " 'B-Relationship',\n",
    " 'B-Soundtrack',\n",
    " 'B-Year',\n",
    " 'I-Actor',\n",
    " 'I-Award',\n",
    " 'I-Character_Name',\n",
    " 'I-Director',\n",
    " 'I-Genre',\n",
    " 'I-Opinion',\n",
    " 'I-Origin',\n",
    " 'I-Plot',\n",
    " 'I-Quote',\n",
    " 'I-Relationship',\n",
    " 'I-Soundtrack',\n",
    " 'I-Year',\n",
    " 'O']"
   ]
  },
  {
   "cell_type": "code",
   "execution_count": 23,
   "metadata": {},
   "outputs": [],
   "source": [
    "mapper = {}\n",
    "i = 0\n",
    "for each in mapper_list:\n",
    "    mapper[each] = i\n",
    "    i = i+1"
   ]
  },
  {
   "cell_type": "code",
   "execution_count": 24,
   "metadata": {},
   "outputs": [
    {
     "output_type": "execute_result",
     "data": {
      "text/plain": [
       "{'B-Actor': 0,\n",
       " 'B-Award': 1,\n",
       " 'B-Character_Name': 2,\n",
       " 'B-Director': 3,\n",
       " 'B-Genre': 4,\n",
       " 'B-Opinion': 5,\n",
       " 'B-Origin': 6,\n",
       " 'B-Plot': 7,\n",
       " 'B-Quote': 8,\n",
       " 'B-Relationship': 9,\n",
       " 'B-Soundtrack': 10,\n",
       " 'B-Year': 11,\n",
       " 'I-Actor': 12,\n",
       " 'I-Award': 13,\n",
       " 'I-Character_Name': 14,\n",
       " 'I-Director': 15,\n",
       " 'I-Genre': 16,\n",
       " 'I-Opinion': 17,\n",
       " 'I-Origin': 18,\n",
       " 'I-Plot': 19,\n",
       " 'I-Quote': 20,\n",
       " 'I-Relationship': 21,\n",
       " 'I-Soundtrack': 22,\n",
       " 'I-Year': 23,\n",
       " 'O': 24}"
      ]
     },
     "metadata": {},
     "execution_count": 24
    }
   ],
   "source": [
    "mapper"
   ]
  },
  {
   "cell_type": "code",
   "execution_count": 36,
   "metadata": {},
   "outputs": [],
   "source": [
    "trivia_train = pd.DataFrame(columns=['tokens', 'ner_tags'])\n",
    "trivia_val = pd.DataFrame(columns=['tokens', 'ner_tags'])\n",
    "trivia_test = pd.DataFrame(columns=['tokens', 'ner_tags'])"
   ]
  },
  {
   "cell_type": "code",
   "execution_count": 37,
   "metadata": {},
   "outputs": [],
   "source": [
    "# uncomment to map to numbers\n",
    "\n",
    "# trivia_train[\"ner_tags\"] = trivia_y_train.apply(lambda f:[mapper [x] for x in f])\n",
    "# trivia_test[\"ner_tags\"] = trivia_y_test.apply(lambda f:[mapper [x] for x in f])\n",
    "# trivia_val[\"ner_tags\"] = trivia_y_val.apply(lambda f:[mapper [x] for x in f])\n",
    "\n",
    "trivia_train[\"ner_tags\"] = trivia_y_train\n",
    "trivia_test[\"ner_tags\"] = trivia_y_test\n",
    "trivia_val[\"ner_tags\"] = trivia_y_val"
   ]
  },
  {
   "cell_type": "code",
   "execution_count": 38,
   "metadata": {},
   "outputs": [],
   "source": [
    "trivia_train['id'] = pd.Series(trivia_train.index).apply(str)\n",
    "trivia_val['id'] = pd.Series(trivia_val.index).apply(str)\n",
    "trivia_test['id'] = pd.Series(trivia_test.index).apply(str)\n",
    "\n",
    "trivia_train[\"tokens\"] = trivia_X_train\n",
    "trivia_test[\"tokens\"] = trivia_X_test\n",
    "trivia_val[\"tokens\"] = trivia_X_val"
   ]
  },
  {
   "cell_type": "code",
   "execution_count": 39,
   "metadata": {},
   "outputs": [
    {
     "output_type": "execute_result",
     "data": {
      "text/plain": [
       "                                                 tokens  \\\n",
       "0     [colin, firth, won, an, oscar, for, his, role,...   \n",
       "1     [what, s, that, newer, movie, that, quentin, t...   \n",
       "2     [what, is, the, animated, family, movie, that,...   \n",
       "3     [what, is, the, sequel, to, the, animated, pix...   \n",
       "4     [this, zombie, thriller, directed, by, george,...   \n",
       "...                                                 ...   \n",
       "6248  [what, is, the, name, of, the, weak, child, th...   \n",
       "6249  [this, is, the, original, second, movie, of, a...   \n",
       "6250  [in, addition, to, having, a, camera, mounted,...   \n",
       "6251  [in, what, film, does, denzel, washington, por...   \n",
       "6252  [jimmy, stewart, plays, another, american, leg...   \n",
       "\n",
       "                                               ner_tags    id  \n",
       "0     [B-Actor, I-Actor, O, O, B-Award, O, O, O, B-P...     0  \n",
       "1     [O, O, O, O, O, O, B-Director, I-Director, O, ...     1  \n",
       "2     [O, O, O, B-Genre, I-Genre, O, O, O, O, B-Plot...     2  \n",
       "3     [O, O, O, B-Relationship, O, O, B-Genre, O, B-...     3  \n",
       "4     [O, B-Genre, I-Genre, O, O, B-Director, I-Dire...     4  \n",
       "...                                                 ...   ...  \n",
       "6248  [O, O, O, O, O, B-Plot, I-Plot, I-Plot, I-Plot...  6248  \n",
       "6249  [O, O, O, O, O, O, O, O, O, B-Genre, I-Genre, ...  6249  \n",
       "6250  [O, O, O, O, O, O, O, O, O, O, O, O, B-Actor, ...  6250  \n",
       "6251  [O, O, O, O, B-Actor, I-Actor, B-Plot, I-Plot,...  6251  \n",
       "6252  [B-Actor, I-Actor, O, O, B-Plot, I-Plot, I-Plo...  6252  \n",
       "\n",
       "[6253 rows x 3 columns]"
      ],
      "text/html": "<div>\n<style scoped>\n    .dataframe tbody tr th:only-of-type {\n        vertical-align: middle;\n    }\n\n    .dataframe tbody tr th {\n        vertical-align: top;\n    }\n\n    .dataframe thead th {\n        text-align: right;\n    }\n</style>\n<table border=\"1\" class=\"dataframe\">\n  <thead>\n    <tr style=\"text-align: right;\">\n      <th></th>\n      <th>tokens</th>\n      <th>ner_tags</th>\n      <th>id</th>\n    </tr>\n  </thead>\n  <tbody>\n    <tr>\n      <th>0</th>\n      <td>[colin, firth, won, an, oscar, for, his, role,...</td>\n      <td>[B-Actor, I-Actor, O, O, B-Award, O, O, O, B-P...</td>\n      <td>0</td>\n    </tr>\n    <tr>\n      <th>1</th>\n      <td>[what, s, that, newer, movie, that, quentin, t...</td>\n      <td>[O, O, O, O, O, O, B-Director, I-Director, O, ...</td>\n      <td>1</td>\n    </tr>\n    <tr>\n      <th>2</th>\n      <td>[what, is, the, animated, family, movie, that,...</td>\n      <td>[O, O, O, B-Genre, I-Genre, O, O, O, O, B-Plot...</td>\n      <td>2</td>\n    </tr>\n    <tr>\n      <th>3</th>\n      <td>[what, is, the, sequel, to, the, animated, pix...</td>\n      <td>[O, O, O, B-Relationship, O, O, B-Genre, O, B-...</td>\n      <td>3</td>\n    </tr>\n    <tr>\n      <th>4</th>\n      <td>[this, zombie, thriller, directed, by, george,...</td>\n      <td>[O, B-Genre, I-Genre, O, O, B-Director, I-Dire...</td>\n      <td>4</td>\n    </tr>\n    <tr>\n      <th>...</th>\n      <td>...</td>\n      <td>...</td>\n      <td>...</td>\n    </tr>\n    <tr>\n      <th>6248</th>\n      <td>[what, is, the, name, of, the, weak, child, th...</td>\n      <td>[O, O, O, O, O, B-Plot, I-Plot, I-Plot, I-Plot...</td>\n      <td>6248</td>\n    </tr>\n    <tr>\n      <th>6249</th>\n      <td>[this, is, the, original, second, movie, of, a...</td>\n      <td>[O, O, O, O, O, O, O, O, O, B-Genre, I-Genre, ...</td>\n      <td>6249</td>\n    </tr>\n    <tr>\n      <th>6250</th>\n      <td>[in, addition, to, having, a, camera, mounted,...</td>\n      <td>[O, O, O, O, O, O, O, O, O, O, O, O, B-Actor, ...</td>\n      <td>6250</td>\n    </tr>\n    <tr>\n      <th>6251</th>\n      <td>[in, what, film, does, denzel, washington, por...</td>\n      <td>[O, O, O, O, B-Actor, I-Actor, B-Plot, I-Plot,...</td>\n      <td>6251</td>\n    </tr>\n    <tr>\n      <th>6252</th>\n      <td>[jimmy, stewart, plays, another, american, leg...</td>\n      <td>[B-Actor, I-Actor, O, O, B-Plot, I-Plot, I-Plo...</td>\n      <td>6252</td>\n    </tr>\n  </tbody>\n</table>\n<p>6253 rows × 3 columns</p>\n</div>"
     },
     "metadata": {},
     "execution_count": 39
    }
   ],
   "source": [
    "trivia_train"
   ]
  },
  {
   "cell_type": "code",
   "execution_count": 29,
   "metadata": {},
   "outputs": [],
   "source": [
    "trivia_train.to_json(r\"../datasets/movies/MIT_movie_NER/dict_structure/trivia_training.json\", orient='records', lines=True)\n",
    "trivia_test.to_json(r\"../datasets/movies/MIT_movie_NER/dict_structure/trivia_test.json\", orient='records', lines=True)\n",
    "trivia_val.to_json(r\"../datasets/movies/MIT_movie_NER/dict_structure/trivia_val.json\", orient='records', lines=True)\n"
   ]
  },
  {
   "cell_type": "code",
   "execution_count": 11,
   "metadata": {},
   "outputs": [],
   "source": [
    "# def to_json(df, path):\n",
    "#     for_json_list = []\n",
    "#     f = open(path, \"w\")\n",
    "#     for index, row in df.iterrows():\n",
    "#         f.write(f\"{ \"id\" : {index}, \"tokens\" : {row[0]},\n",
    "#             \"ner_tags\" : {row[1]}}\" + \"\\n\")\n",
    "#     f.close()"
   ]
  },
  {
   "cell_type": "code",
   "execution_count": 12,
   "metadata": {},
   "outputs": [],
   "source": [
    "# to_json(trivia_train, \"data/MIT_movie_NER/dict_structure/trivia_training.jsonl\")\n",
    "# to_json(trivia_test, \"data/MIT_movie_NER/dict_structure/trivia_test.jsonl\")\n",
    "# to_json(trivia_val, \"data/MIT_movie_NER/dict_structure/trivia_val.jsonl\")"
   ]
  },
  {
   "cell_type": "code",
   "execution_count": 46,
   "metadata": {},
   "outputs": [],
   "source": [
    "# data.to_csv(\"data/MIT_movie_NER/csv_format/trivia_training.csv\")"
   ]
  }
 ]
}