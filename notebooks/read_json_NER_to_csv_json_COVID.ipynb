{
 "metadata": {
  "language_info": {
   "codemirror_mode": {
    "name": "ipython",
    "version": 3
   },
   "file_extension": ".py",
   "mimetype": "text/x-python",
   "name": "python",
   "nbconvert_exporter": "python",
   "pygments_lexer": "ipython3",
   "version": "3.8.6"
  },
  "orig_nbformat": 2,
  "kernelspec": {
   "name": "python386jvsc74a57bd00cbb398e7fa080eddefa05a938b6b2d0bd9fb13bad6d642a712d30be3d64f672",
   "display_name": "Python 3.8.6 64-bit ('3.8.6': pyenv)"
  },
  "metadata": {
   "interpreter": {
    "hash": "2858890bae232c5a2eafb41676f76863dbb689e94c5d0ec3cf4073896e5bad9e"
   }
  }
 },
 "nbformat": 4,
 "nbformat_minor": 2,
 "cells": [
  {
   "cell_type": "code",
   "execution_count": 2,
   "metadata": {},
   "outputs": [],
   "source": [
    "import pandas as pd\n",
    "import joblib\n",
    "import random\n",
    "import json"
   ]
  },
  {
   "cell_type": "code",
   "execution_count": 4,
   "metadata": {},
   "outputs": [],
   "source": [
    "X_train = pd.Series(joblib.load(\"../datasets/covid/X_train\"))\n",
    "y_train = pd.Series(joblib.load(\"../datasets/covid/y_train\"))\n",
    "X_test = pd.Series(joblib.load(\"../datasets/covid/X_test\"))\n",
    "y_test = pd.Series(joblib.load(\"../datasets/covid/y_test\"))\n",
    "X_dev = pd.Series(joblib.load(\"../datasets/covid/X_dev\"))\n",
    "y_dev = pd.Series(joblib.load(\"../datasets/covid/y_dev\"))"
   ]
  },
  {
   "cell_type": "code",
   "execution_count": 5,
   "metadata": {},
   "outputs": [],
   "source": [
    "plain_train = pd.DataFrame(columns=['tokens', 'ner_tags'])\n",
    "plain_val = pd.DataFrame(columns=['tokens', 'ner_tags'])\n",
    "plain_test = pd.DataFrame(columns=['tokens', 'ner_tags'])"
   ]
  },
  {
   "cell_type": "code",
   "execution_count": 11,
   "metadata": {},
   "outputs": [],
   "source": [
    "plain_train[\"tokens\"] = y_train\n",
    "plain_test[\"tokens\"] = y_test\n",
    "plain_val[\"tokens\"] = y_dev"
   ]
  },
  {
   "cell_type": "code",
   "execution_count": 12,
   "metadata": {},
   "outputs": [],
   "source": [
    "plain_train['id'] = pd.Series(plain_train.index).apply(str)\n",
    "plain_val['id'] = pd.Series(plain_val.index).apply(str)\n",
    "plain_test['id'] = pd.Series(plain_test.index).apply(str)\n",
    "\n",
    "plain_train[\"ner_tags\"] = X_train\n",
    "plain_test[\"ner_tags\"] = X_test\n",
    "plain_val[\"ner_tags\"] = X_dev"
   ]
  },
  {
   "cell_type": "code",
   "execution_count": 13,
   "metadata": {},
   "outputs": [
    {
     "output_type": "execute_result",
     "data": {
      "text/plain": [
       "                                                   tokens  \\\n",
       "0       [:, A, region, of, the, bovine, coronavirus, (...   \n",
       "1       [The, 291, -, nucleotide, clone, shares, 72, %...   \n",
       "2       [The, data, demonstrate, that, the, BCV, genom...   \n",
       "3       [TITLE, :, Comparison, of, systemic, cytokine,...   \n",
       "4       [ABSTRACT, :, The, inflammatory, response, has...   \n",
       "...                                                   ...   \n",
       "105731  [Due, to, the, lack, of, drugs, against, COVID...   \n",
       "105732  [Therefore, ,, specific, drugs, against, SARS,...   \n",
       "105733  [The, antimalarial, drug, Chloroquine, phospha...   \n",
       "105734  [However, ,, awareness, of, the, risk, of, chl...   \n",
       "105735  [This, paper, reviews, the, pharmacological, e...   \n",
       "\n",
       "                                                 ner_tags      id  \n",
       "0       [O, O, O, O, O, B-SPEC, B-SPEC, O, B-SPEC, O, ...       0  \n",
       "1       [O, O, O, B-CHED, O, O, O, O, O, O, O, O, O, B...       1  \n",
       "2       [O, O, O, O, O, B-SPEC, O, O, O, O, O, O, O, O...       2  \n",
       "3       [O, O, O, O, O, O, O, O, O, O, B-DISO, I-DISO,...       3  \n",
       "4       [O, O, O, B-DISO, I-DISO, O, O, O, O, O, O, O,...       4  \n",
       "...                                                   ...     ...  \n",
       "105731  [O, O, O, O, O, O, O, B-DISO, I-DISO, I-DISO, ...  105731  \n",
       "105732  [O, O, O, O, O, B-SPEC, I-SPEC, I-SPEC, I-SPEC...  105732  \n",
       "105733  [O, B-CHED, O, B-CHED, B-CHED, O, O, O, O, O, ...  105733  \n",
       "105734  [O, O, O, O, O, O, O, B-CHED, B-CHED, O, O, O,...  105734  \n",
       "105735  [O, O, O, O, O, O, O, O, O, O, O, O, O, O, B-P...  105735  \n",
       "\n",
       "[105736 rows x 3 columns]"
      ],
      "text/html": "<div>\n<style scoped>\n    .dataframe tbody tr th:only-of-type {\n        vertical-align: middle;\n    }\n\n    .dataframe tbody tr th {\n        vertical-align: top;\n    }\n\n    .dataframe thead th {\n        text-align: right;\n    }\n</style>\n<table border=\"1\" class=\"dataframe\">\n  <thead>\n    <tr style=\"text-align: right;\">\n      <th></th>\n      <th>tokens</th>\n      <th>ner_tags</th>\n      <th>id</th>\n    </tr>\n  </thead>\n  <tbody>\n    <tr>\n      <th>0</th>\n      <td>[:, A, region, of, the, bovine, coronavirus, (...</td>\n      <td>[O, O, O, O, O, B-SPEC, B-SPEC, O, B-SPEC, O, ...</td>\n      <td>0</td>\n    </tr>\n    <tr>\n      <th>1</th>\n      <td>[The, 291, -, nucleotide, clone, shares, 72, %...</td>\n      <td>[O, O, O, B-CHED, O, O, O, O, O, O, O, O, O, B...</td>\n      <td>1</td>\n    </tr>\n    <tr>\n      <th>2</th>\n      <td>[The, data, demonstrate, that, the, BCV, genom...</td>\n      <td>[O, O, O, O, O, B-SPEC, O, O, O, O, O, O, O, O...</td>\n      <td>2</td>\n    </tr>\n    <tr>\n      <th>3</th>\n      <td>[TITLE, :, Comparison, of, systemic, cytokine,...</td>\n      <td>[O, O, O, O, O, O, O, O, O, O, B-DISO, I-DISO,...</td>\n      <td>3</td>\n    </tr>\n    <tr>\n      <th>4</th>\n      <td>[ABSTRACT, :, The, inflammatory, response, has...</td>\n      <td>[O, O, O, B-DISO, I-DISO, O, O, O, O, O, O, O,...</td>\n      <td>4</td>\n    </tr>\n    <tr>\n      <th>...</th>\n      <td>...</td>\n      <td>...</td>\n      <td>...</td>\n    </tr>\n    <tr>\n      <th>105731</th>\n      <td>[Due, to, the, lack, of, drugs, against, COVID...</td>\n      <td>[O, O, O, O, O, O, O, B-DISO, I-DISO, I-DISO, ...</td>\n      <td>105731</td>\n    </tr>\n    <tr>\n      <th>105732</th>\n      <td>[Therefore, ,, specific, drugs, against, SARS,...</td>\n      <td>[O, O, O, O, O, B-SPEC, I-SPEC, I-SPEC, I-SPEC...</td>\n      <td>105732</td>\n    </tr>\n    <tr>\n      <th>105733</th>\n      <td>[The, antimalarial, drug, Chloroquine, phospha...</td>\n      <td>[O, B-CHED, O, B-CHED, B-CHED, O, O, O, O, O, ...</td>\n      <td>105733</td>\n    </tr>\n    <tr>\n      <th>105734</th>\n      <td>[However, ,, awareness, of, the, risk, of, chl...</td>\n      <td>[O, O, O, O, O, O, O, B-CHED, B-CHED, O, O, O,...</td>\n      <td>105734</td>\n    </tr>\n    <tr>\n      <th>105735</th>\n      <td>[This, paper, reviews, the, pharmacological, e...</td>\n      <td>[O, O, O, O, O, O, O, O, O, O, O, O, O, O, B-P...</td>\n      <td>105735</td>\n    </tr>\n  </tbody>\n</table>\n<p>105736 rows × 3 columns</p>\n</div>"
     },
     "metadata": {},
     "execution_count": 13
    }
   ],
   "source": [
    "# trivia_train\n",
    "plain_train"
   ]
  },
  {
   "cell_type": "code",
   "execution_count": 38,
   "metadata": {},
   "outputs": [],
   "source": [
    "plain_train.to_json(r\"../datasets/movies/MIT_movie_NER/dict_structure/plain_training.json\", orient='records', lines=True)\n",
    "plain_test.to_json(r\"../datasets/movies/MIT_movie_NER/dict_structure/plain_test.json\", orient='records', lines=True)\n",
    "plain_val.to_json(r\"../datasets/movies/MIT_movie_NER/dict_structure/plain_val.json\", orient='records', lines=True)"
   ]
  },
  {
   "cell_type": "code",
   "execution_count": 11,
   "metadata": {},
   "outputs": [],
   "source": [
    "# def to_json(df, path):\n",
    "#     for_json_list = []\n",
    "#     f = open(path, \"w\")\n",
    "#     for index, row in df.iterrows():\n",
    "#         f.write(f\"{ \"id\" : {index}, \"tokens\" : {row[0]},\n",
    "#             \"ner_tags\" : {row[1]}}\" + \"\\n\")\n",
    "#     f.close()"
   ]
  },
  {
   "cell_type": "code",
   "execution_count": 12,
   "metadata": {},
   "outputs": [],
   "source": [
    "# to_json(trivia_train, \"data/MIT_movie_NER/dict_structure/trivia_training.jsonl\")\n",
    "# to_json(trivia_test, \"data/MIT_movie_NER/dict_structure/trivia_test.jsonl\")\n",
    "# to_json(trivia_val, \"data/MIT_movie_NER/dict_structure/trivia_val.jsonl\")"
   ]
  },
  {
   "cell_type": "code",
   "execution_count": 46,
   "metadata": {},
   "outputs": [],
   "source": [
    "# data.to_csv(\"data/MIT_movie_NER/csv_format/trivia_training.csv\")"
   ]
  }
 ]
}