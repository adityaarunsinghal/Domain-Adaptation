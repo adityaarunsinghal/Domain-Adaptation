{
 "metadata": {
  "language_info": {
   "codemirror_mode": {
    "name": "ipython",
    "version": 3
   },
   "file_extension": ".py",
   "mimetype": "text/x-python",
   "name": "python",
   "nbconvert_exporter": "python",
   "pygments_lexer": "ipython3",
   "version": "3.8.6"
  },
  "orig_nbformat": 2,
  "kernelspec": {
   "name": "pythonjvsc74a57bd02858890bae232c5a2eafb41676f76863dbb689e94c5d0ec3cf4073896e5bad9e",
   "display_name": "Python 3.8.6 64-bit"
  },
  "metadata": {
   "interpreter": {
    "hash": "2858890bae232c5a2eafb41676f76863dbb689e94c5d0ec3cf4073896e5bad9e"
   }
  }
 },
 "nbformat": 4,
 "nbformat_minor": 2,
 "cells": [
  {
   "cell_type": "code",
   "execution_count": 1,
   "metadata": {},
   "outputs": [],
   "source": [
    "import pandas as pd\n",
    "import joblib\n",
    "import random\n",
    "import json"
   ]
  },
  {
   "cell_type": "code",
   "execution_count": 39,
   "metadata": {},
   "outputs": [],
   "source": [
    "trivia_X_train = pd.Series(joblib.load(\"data/MIT_movie_NER/nested_lists/trivia_X_train\"))\n",
    "trivia_y_train = pd.Series(joblib.load(\"data/MIT_movie_NER/nested_lists/trivia_y_train\"))\n",
    "trivia_X_test = pd.Series(joblib.load(\"data/MIT_movie_NER/nested_lists/trivia_X_test\"))\n",
    "trivia_y_test = pd.Series(joblib.load(\"data/MIT_movie_NER/nested_lists/trivia_y_test\"))\n",
    "trivia_X_val = pd.Series(joblib.load(\"data/MIT_movie_NER/nested_lists/trivia_X_val\"))\n",
    "trivia_y_val = pd.Series(joblib.load(\"data/MIT_movie_NER/nested_lists/trivia_y_val\"))"
   ]
  },
  {
   "cell_type": "code",
   "execution_count": 40,
   "metadata": {},
   "outputs": [],
   "source": [
    "# path = \"data/MIT_movie_NER/original_files/trivia10k13train.bio\"\n",
    "# save_path = \"data/MIT_movie_NER/csv_format/trivia_training.csv\"\n",
    "\n",
    "# data = pd.read_csv(path, header=None)\n",
    "# df = pd.DataFrame(columns=[\"token\", \"ner_tag\"])\n",
    "# df['token'], df['ner_tag'] = list(zip(*data[0].str.split(\"\\t\")))\n",
    "# df.to_csv(save_path)"
   ]
  },
  {
   "cell_type": "code",
   "execution_count": 41,
   "metadata": {},
   "outputs": [],
   "source": [
    "mapper_list = ['B-Actor',\n",
    " 'B-Award',\n",
    " 'B-Character_Name',\n",
    " 'B-Director',\n",
    " 'B-Genre',\n",
    " 'B-Opinion',\n",
    " 'B-Origin',\n",
    " 'B-Plot',\n",
    " 'B-Quote',\n",
    " 'B-Relationship',\n",
    " 'B-Soundtrack',\n",
    " 'B-Year',\n",
    " 'I-Actor',\n",
    " 'I-Award',\n",
    " 'I-Character_Name',\n",
    " 'I-Director',\n",
    " 'I-Genre',\n",
    " 'I-Opinion',\n",
    " 'I-Origin',\n",
    " 'I-Plot',\n",
    " 'I-Quote',\n",
    " 'I-Relationship',\n",
    " 'I-Soundtrack',\n",
    " 'I-Year',\n",
    " 'O']"
   ]
  },
  {
   "cell_type": "code",
   "execution_count": 42,
   "metadata": {},
   "outputs": [],
   "source": [
    "mapper = {}\n",
    "i = 0\n",
    "for each in mapper_list:\n",
    "    mapper[each] = i\n",
    "    i = i+1"
   ]
  },
  {
   "cell_type": "code",
   "execution_count": 43,
   "metadata": {},
   "outputs": [
    {
     "output_type": "execute_result",
     "data": {
      "text/plain": [
       "{'B-Actor': 0,\n",
       " 'B-Award': 1,\n",
       " 'B-Character_Name': 2,\n",
       " 'B-Director': 3,\n",
       " 'B-Genre': 4,\n",
       " 'B-Opinion': 5,\n",
       " 'B-Origin': 6,\n",
       " 'B-Plot': 7,\n",
       " 'B-Quote': 8,\n",
       " 'B-Relationship': 9,\n",
       " 'B-Soundtrack': 10,\n",
       " 'B-Year': 11,\n",
       " 'I-Actor': 12,\n",
       " 'I-Award': 13,\n",
       " 'I-Character_Name': 14,\n",
       " 'I-Director': 15,\n",
       " 'I-Genre': 16,\n",
       " 'I-Opinion': 17,\n",
       " 'I-Origin': 18,\n",
       " 'I-Plot': 19,\n",
       " 'I-Quote': 20,\n",
       " 'I-Relationship': 21,\n",
       " 'I-Soundtrack': 22,\n",
       " 'I-Year': 23,\n",
       " 'O': 24}"
      ]
     },
     "metadata": {},
     "execution_count": 43
    }
   ],
   "source": [
    "mapper"
   ]
  },
  {
   "cell_type": "code",
   "execution_count": 44,
   "metadata": {},
   "outputs": [],
   "source": [
    "trivia_train = pd.DataFrame(columns=['tokens', 'ner_tags'])\n",
    "trivia_val = pd.DataFrame(columns=['tokens', 'ner_tags'])\n",
    "trivia_test = pd.DataFrame(columns=['tokens', 'ner_tags'])"
   ]
  },
  {
   "cell_type": "code",
   "execution_count": 45,
   "metadata": {},
   "outputs": [],
   "source": [
    "trivia_train[\"ner_tags\"] = trivia_y_train.apply(lambda f:[mapper [x] for x in f])\n",
    "trivia_test[\"ner_tags\"] = trivia_y_test.apply(lambda f:[mapper [x] for x in f])\n",
    "trivia_val[\"ner_tags\"] = trivia_y_val.apply(lambda f:[mapper [x] for x in f])"
   ]
  },
  {
   "cell_type": "code",
   "execution_count": 46,
   "metadata": {},
   "outputs": [],
   "source": [
    "trivia_train[\"tokens\"] = trivia_X_train\n",
    "trivia_test[\"tokens\"] = trivia_X_test\n",
    "trivia_val[\"tokens\"] = trivia_X_val"
   ]
  },
  {
   "cell_type": "code",
   "execution_count": 47,
   "metadata": {},
   "outputs": [
    {
     "output_type": "execute_result",
     "data": {
      "text/plain": [
       "                                                 tokens  \\\n",
       "0     [what, 1977, steven, spielberg, sci, fi, adven...   \n",
       "1     [called, by, many, the, greatest, film, of, al...   \n",
       "2     [what, is, that, documentary, about, the, famo...   \n",
       "3     [what, 1931, film, featured, a, man, hunt, in,...   \n",
       "4     [i, m, thinking, of, a, movie, starring, denze...   \n",
       "...                                                 ...   \n",
       "6248  [what, is, the, disney, animated, movie, in, w...   \n",
       "6249  [autobots, learn, of, a, cybertronian, spacecr...   \n",
       "6250  [there, was, a, british, version, of, this, mo...   \n",
       "6251  [what, is, that, 2010, movie, directed, by, cl...   \n",
       "6252  [what, is, the, family, movie, that, features,...   \n",
       "\n",
       "                                               ner_tags  \n",
       "0     [24, 24, 24, 11, 4, 16, 16, 24, 24, 0, 12, 24,...  \n",
       "1     [24, 24, 24, 24, 24, 24, 0, 12, 24, 0, 12, 7, ...  \n",
       "2     [24, 24, 24, 11, 24, 24, 0, 12, 24, 0, 12, 24,...  \n",
       "3     [24, 4, 16, 5, 24, 7, 19, 19, 19, 19, 19, 19, ...  \n",
       "4     [7, 19, 19, 19, 19, 19, 19, 19, 19, 19, 19, 19...  \n",
       "...                                                 ...  \n",
       "6248  [24, 24, 24, 11, 4, 5, 24, 24, 24, 24, 24, 24,...  \n",
       "6249  [7, 19, 2, 14, 7, 19, 19, 19, 19, 24, 24, 24, ...  \n",
       "6250  [0, 12, 6, 18, 18, 18, 24, 24, 11, 4, 24, 1, 1...  \n",
       "6251  [0, 12, 24, 24, 1, 24, 24, 24, 24, 24, 11, 3, ...  \n",
       "6252  [0, 12, 24, 7, 19, 19, 19, 19, 19, 19, 19, 19,...  \n",
       "\n",
       "[6253 rows x 2 columns]"
      ],
      "text/html": "<div>\n<style scoped>\n    .dataframe tbody tr th:only-of-type {\n        vertical-align: middle;\n    }\n\n    .dataframe tbody tr th {\n        vertical-align: top;\n    }\n\n    .dataframe thead th {\n        text-align: right;\n    }\n</style>\n<table border=\"1\" class=\"dataframe\">\n  <thead>\n    <tr style=\"text-align: right;\">\n      <th></th>\n      <th>tokens</th>\n      <th>ner_tags</th>\n    </tr>\n  </thead>\n  <tbody>\n    <tr>\n      <th>0</th>\n      <td>[what, 1977, steven, spielberg, sci, fi, adven...</td>\n      <td>[24, 24, 24, 11, 4, 16, 16, 24, 24, 0, 12, 24,...</td>\n    </tr>\n    <tr>\n      <th>1</th>\n      <td>[called, by, many, the, greatest, film, of, al...</td>\n      <td>[24, 24, 24, 24, 24, 24, 0, 12, 24, 0, 12, 7, ...</td>\n    </tr>\n    <tr>\n      <th>2</th>\n      <td>[what, is, that, documentary, about, the, famo...</td>\n      <td>[24, 24, 24, 11, 24, 24, 0, 12, 24, 0, 12, 24,...</td>\n    </tr>\n    <tr>\n      <th>3</th>\n      <td>[what, 1931, film, featured, a, man, hunt, in,...</td>\n      <td>[24, 4, 16, 5, 24, 7, 19, 19, 19, 19, 19, 19, ...</td>\n    </tr>\n    <tr>\n      <th>4</th>\n      <td>[i, m, thinking, of, a, movie, starring, denze...</td>\n      <td>[7, 19, 19, 19, 19, 19, 19, 19, 19, 19, 19, 19...</td>\n    </tr>\n    <tr>\n      <th>...</th>\n      <td>...</td>\n      <td>...</td>\n    </tr>\n    <tr>\n      <th>6248</th>\n      <td>[what, is, the, disney, animated, movie, in, w...</td>\n      <td>[24, 24, 24, 11, 4, 5, 24, 24, 24, 24, 24, 24,...</td>\n    </tr>\n    <tr>\n      <th>6249</th>\n      <td>[autobots, learn, of, a, cybertronian, spacecr...</td>\n      <td>[7, 19, 2, 14, 7, 19, 19, 19, 19, 24, 24, 24, ...</td>\n    </tr>\n    <tr>\n      <th>6250</th>\n      <td>[there, was, a, british, version, of, this, mo...</td>\n      <td>[0, 12, 6, 18, 18, 18, 24, 24, 11, 4, 24, 1, 1...</td>\n    </tr>\n    <tr>\n      <th>6251</th>\n      <td>[what, is, that, 2010, movie, directed, by, cl...</td>\n      <td>[0, 12, 24, 24, 1, 24, 24, 24, 24, 24, 11, 3, ...</td>\n    </tr>\n    <tr>\n      <th>6252</th>\n      <td>[what, is, the, family, movie, that, features,...</td>\n      <td>[0, 12, 24, 7, 19, 19, 19, 19, 19, 19, 19, 19,...</td>\n    </tr>\n  </tbody>\n</table>\n<p>6253 rows × 2 columns</p>\n</div>"
     },
     "metadata": {},
     "execution_count": 47
    }
   ],
   "source": [
    "trivia_train"
   ]
  },
  {
   "cell_type": "code",
   "execution_count": 48,
   "metadata": {},
   "outputs": [],
   "source": [
    "def to_json(df, path):\n",
    "    for_json_list = []\n",
    "    f = open(path, \"w\")\n",
    "    for index, row in df.iterrows():\n",
    "        f.write(str({\n",
    "            \"id\" : index,\n",
    "            \"tokens\" : row[0],\n",
    "            \"ner_tags\" : row[1]    }) + \"\\n\")\n",
    "    f.close()"
   ]
  },
  {
   "cell_type": "code",
   "execution_count": 49,
   "metadata": {},
   "outputs": [],
   "source": [
    "to_json(trivia_train, \"data/MIT_movie_NER/dict_structure/trivia_training.jsonl\")\n",
    "to_json(trivia_test, \"data/MIT_movie_NER/dict_structure/trivia_test.jsonl\")\n",
    "to_json(trivia_val, \"data/MIT_movie_NER/dict_structure/trivia_val.jsonl\")"
   ]
  },
  {
   "cell_type": "code",
   "execution_count": 46,
   "metadata": {},
   "outputs": [],
   "source": [
    "# data.to_csv(\"data/MIT_movie_NER/csv_format/trivia_training.csv\")"
   ]
  }
 ]
}