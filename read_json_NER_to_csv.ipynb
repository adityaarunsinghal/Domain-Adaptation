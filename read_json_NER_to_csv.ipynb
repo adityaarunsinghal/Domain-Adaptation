{
 "metadata": {
  "language_info": {
   "codemirror_mode": {
    "name": "ipython",
    "version": 3
   },
   "file_extension": ".py",
   "mimetype": "text/x-python",
   "name": "python",
   "nbconvert_exporter": "python",
   "pygments_lexer": "ipython3",
   "version": "3.8.6"
  },
  "orig_nbformat": 2,
  "kernelspec": {
   "name": "pythonjvsc74a57bd02858890bae232c5a2eafb41676f76863dbb689e94c5d0ec3cf4073896e5bad9e",
   "display_name": "Python 3.8.6 64-bit"
  },
  "metadata": {
   "interpreter": {
    "hash": "2858890bae232c5a2eafb41676f76863dbb689e94c5d0ec3cf4073896e5bad9e"
   }
  }
 },
 "nbformat": 4,
 "nbformat_minor": 2,
 "cells": [
  {
   "cell_type": "code",
   "execution_count": 1,
   "metadata": {},
   "outputs": [],
   "source": [
    "import pandas as pd\n",
    "import joblib\n",
    "import random\n",
    "import json"
   ]
  },
  {
   "cell_type": "code",
   "execution_count": 71,
   "metadata": {},
   "outputs": [
    {
     "output_type": "error",
     "ename": "JSONDecodeError",
     "evalue": "Expecting ',' delimiter: line 1 column 540996 (char 540995)",
     "traceback": [
      "\u001b[0;31m---------------------------------------------------------------------------\u001b[0m",
      "\u001b[0;31mJSONDecodeError\u001b[0m                           Traceback (most recent call last)",
      "\u001b[0;32m<ipython-input-71-f4a2ee03f09e>\u001b[0m in \u001b[0;36m<module>\u001b[0;34m\u001b[0m\n\u001b[1;32m      1\u001b[0m \u001b[0mf\u001b[0m \u001b[0;34m=\u001b[0m \u001b[0mopen\u001b[0m\u001b[0;34m(\u001b[0m\u001b[0;34m\"data/MIT_movie_NER/dict_structure/trivia_validation.json\"\u001b[0m\u001b[0;34m,\u001b[0m \u001b[0;34m\"r\"\u001b[0m\u001b[0;34m)\u001b[0m\u001b[0;34m\u001b[0m\u001b[0;34m\u001b[0m\u001b[0m\n\u001b[0;32m----> 2\u001b[0;31m \u001b[0mdata\u001b[0m \u001b[0;34m=\u001b[0m \u001b[0mpd\u001b[0m\u001b[0;34m.\u001b[0m\u001b[0mDataFrame\u001b[0m\u001b[0;34m(\u001b[0m\u001b[0mjson\u001b[0m\u001b[0;34m.\u001b[0m\u001b[0mload\u001b[0m\u001b[0;34m(\u001b[0m\u001b[0mf\u001b[0m\u001b[0;34m)\u001b[0m\u001b[0;34m,\u001b[0m \u001b[0merrors\u001b[0m\u001b[0;34m=\u001b[0m\u001b[0;34m\"ignore\"\u001b[0m\u001b[0;34m)\u001b[0m\u001b[0;34m\u001b[0m\u001b[0;34m\u001b[0m\u001b[0m\n\u001b[0m",
      "\u001b[0;32m~/.pyenv/versions/3.8.6/lib/python3.8/json/__init__.py\u001b[0m in \u001b[0;36mload\u001b[0;34m(fp, cls, object_hook, parse_float, parse_int, parse_constant, object_pairs_hook, **kw)\u001b[0m\n\u001b[1;32m    291\u001b[0m     \u001b[0mkwarg\u001b[0m\u001b[0;34m;\u001b[0m \u001b[0motherwise\u001b[0m\u001b[0;31m \u001b[0m\u001b[0;31m`\u001b[0m\u001b[0;31m`\u001b[0m\u001b[0mJSONDecoder\u001b[0m\u001b[0;31m`\u001b[0m\u001b[0;31m`\u001b[0m \u001b[0;32mis\u001b[0m \u001b[0mused\u001b[0m\u001b[0;34m.\u001b[0m\u001b[0;34m\u001b[0m\u001b[0;34m\u001b[0m\u001b[0m\n\u001b[1;32m    292\u001b[0m     \"\"\"\n\u001b[0;32m--> 293\u001b[0;31m     return loads(fp.read(),\n\u001b[0m\u001b[1;32m    294\u001b[0m         \u001b[0mcls\u001b[0m\u001b[0;34m=\u001b[0m\u001b[0mcls\u001b[0m\u001b[0;34m,\u001b[0m \u001b[0mobject_hook\u001b[0m\u001b[0;34m=\u001b[0m\u001b[0mobject_hook\u001b[0m\u001b[0;34m,\u001b[0m\u001b[0;34m\u001b[0m\u001b[0;34m\u001b[0m\u001b[0m\n\u001b[1;32m    295\u001b[0m         \u001b[0mparse_float\u001b[0m\u001b[0;34m=\u001b[0m\u001b[0mparse_float\u001b[0m\u001b[0;34m,\u001b[0m \u001b[0mparse_int\u001b[0m\u001b[0;34m=\u001b[0m\u001b[0mparse_int\u001b[0m\u001b[0;34m,\u001b[0m\u001b[0;34m\u001b[0m\u001b[0;34m\u001b[0m\u001b[0m\n",
      "\u001b[0;32m~/.pyenv/versions/3.8.6/lib/python3.8/json/__init__.py\u001b[0m in \u001b[0;36mloads\u001b[0;34m(s, cls, object_hook, parse_float, parse_int, parse_constant, object_pairs_hook, **kw)\u001b[0m\n\u001b[1;32m    355\u001b[0m             \u001b[0mparse_int\u001b[0m \u001b[0;32mis\u001b[0m \u001b[0;32mNone\u001b[0m \u001b[0;32mand\u001b[0m \u001b[0mparse_float\u001b[0m \u001b[0;32mis\u001b[0m \u001b[0;32mNone\u001b[0m \u001b[0;32mand\u001b[0m\u001b[0;34m\u001b[0m\u001b[0;34m\u001b[0m\u001b[0m\n\u001b[1;32m    356\u001b[0m             parse_constant is None and object_pairs_hook is None and not kw):\n\u001b[0;32m--> 357\u001b[0;31m         \u001b[0;32mreturn\u001b[0m \u001b[0m_default_decoder\u001b[0m\u001b[0;34m.\u001b[0m\u001b[0mdecode\u001b[0m\u001b[0;34m(\u001b[0m\u001b[0ms\u001b[0m\u001b[0;34m)\u001b[0m\u001b[0;34m\u001b[0m\u001b[0;34m\u001b[0m\u001b[0m\n\u001b[0m\u001b[1;32m    358\u001b[0m     \u001b[0;32mif\u001b[0m \u001b[0mcls\u001b[0m \u001b[0;32mis\u001b[0m \u001b[0;32mNone\u001b[0m\u001b[0;34m:\u001b[0m\u001b[0;34m\u001b[0m\u001b[0;34m\u001b[0m\u001b[0m\n\u001b[1;32m    359\u001b[0m         \u001b[0mcls\u001b[0m \u001b[0;34m=\u001b[0m \u001b[0mJSONDecoder\u001b[0m\u001b[0;34m\u001b[0m\u001b[0;34m\u001b[0m\u001b[0m\n",
      "\u001b[0;32m~/.pyenv/versions/3.8.6/lib/python3.8/json/decoder.py\u001b[0m in \u001b[0;36mdecode\u001b[0;34m(self, s, _w)\u001b[0m\n\u001b[1;32m    335\u001b[0m \u001b[0;34m\u001b[0m\u001b[0m\n\u001b[1;32m    336\u001b[0m         \"\"\"\n\u001b[0;32m--> 337\u001b[0;31m         \u001b[0mobj\u001b[0m\u001b[0;34m,\u001b[0m \u001b[0mend\u001b[0m \u001b[0;34m=\u001b[0m \u001b[0mself\u001b[0m\u001b[0;34m.\u001b[0m\u001b[0mraw_decode\u001b[0m\u001b[0;34m(\u001b[0m\u001b[0ms\u001b[0m\u001b[0;34m,\u001b[0m \u001b[0midx\u001b[0m\u001b[0;34m=\u001b[0m\u001b[0m_w\u001b[0m\u001b[0;34m(\u001b[0m\u001b[0ms\u001b[0m\u001b[0;34m,\u001b[0m \u001b[0;36m0\u001b[0m\u001b[0;34m)\u001b[0m\u001b[0;34m.\u001b[0m\u001b[0mend\u001b[0m\u001b[0;34m(\u001b[0m\u001b[0;34m)\u001b[0m\u001b[0;34m)\u001b[0m\u001b[0;34m\u001b[0m\u001b[0;34m\u001b[0m\u001b[0m\n\u001b[0m\u001b[1;32m    338\u001b[0m         \u001b[0mend\u001b[0m \u001b[0;34m=\u001b[0m \u001b[0m_w\u001b[0m\u001b[0;34m(\u001b[0m\u001b[0ms\u001b[0m\u001b[0;34m,\u001b[0m \u001b[0mend\u001b[0m\u001b[0;34m)\u001b[0m\u001b[0;34m.\u001b[0m\u001b[0mend\u001b[0m\u001b[0;34m(\u001b[0m\u001b[0;34m)\u001b[0m\u001b[0;34m\u001b[0m\u001b[0;34m\u001b[0m\u001b[0m\n\u001b[1;32m    339\u001b[0m         \u001b[0;32mif\u001b[0m \u001b[0mend\u001b[0m \u001b[0;34m!=\u001b[0m \u001b[0mlen\u001b[0m\u001b[0;34m(\u001b[0m\u001b[0ms\u001b[0m\u001b[0;34m)\u001b[0m\u001b[0;34m:\u001b[0m\u001b[0;34m\u001b[0m\u001b[0;34m\u001b[0m\u001b[0m\n",
      "\u001b[0;32m~/.pyenv/versions/3.8.6/lib/python3.8/json/decoder.py\u001b[0m in \u001b[0;36mraw_decode\u001b[0;34m(self, s, idx)\u001b[0m\n\u001b[1;32m    351\u001b[0m         \"\"\"\n\u001b[1;32m    352\u001b[0m         \u001b[0;32mtry\u001b[0m\u001b[0;34m:\u001b[0m\u001b[0;34m\u001b[0m\u001b[0;34m\u001b[0m\u001b[0m\n\u001b[0;32m--> 353\u001b[0;31m             \u001b[0mobj\u001b[0m\u001b[0;34m,\u001b[0m \u001b[0mend\u001b[0m \u001b[0;34m=\u001b[0m \u001b[0mself\u001b[0m\u001b[0;34m.\u001b[0m\u001b[0mscan_once\u001b[0m\u001b[0;34m(\u001b[0m\u001b[0ms\u001b[0m\u001b[0;34m,\u001b[0m \u001b[0midx\u001b[0m\u001b[0;34m)\u001b[0m\u001b[0;34m\u001b[0m\u001b[0;34m\u001b[0m\u001b[0m\n\u001b[0m\u001b[1;32m    354\u001b[0m         \u001b[0;32mexcept\u001b[0m \u001b[0mStopIteration\u001b[0m \u001b[0;32mas\u001b[0m \u001b[0merr\u001b[0m\u001b[0;34m:\u001b[0m\u001b[0;34m\u001b[0m\u001b[0;34m\u001b[0m\u001b[0m\n\u001b[1;32m    355\u001b[0m             \u001b[0;32mraise\u001b[0m \u001b[0mJSONDecodeError\u001b[0m\u001b[0;34m(\u001b[0m\u001b[0;34m\"Expecting value\"\u001b[0m\u001b[0;34m,\u001b[0m \u001b[0ms\u001b[0m\u001b[0;34m,\u001b[0m \u001b[0merr\u001b[0m\u001b[0;34m.\u001b[0m\u001b[0mvalue\u001b[0m\u001b[0;34m)\u001b[0m \u001b[0;32mfrom\u001b[0m \u001b[0;32mNone\u001b[0m\u001b[0;34m\u001b[0m\u001b[0;34m\u001b[0m\u001b[0m\n",
      "\u001b[0;31mJSONDecodeError\u001b[0m: Expecting ',' delimiter: line 1 column 540996 (char 540995)"
     ]
    }
   ],
   "source": [
    "f = open(\"data/MIT_movie_NER/dict_structure/trivia_validation.json\", \"r\", errors)\n",
    "data = pd.DataFrame(json.load(f), errors=\"ignore\")"
   ]
  },
  {
   "cell_type": "code",
   "execution_count": 3,
   "metadata": {
    "tags": []
   },
   "outputs": [],
   "source": [
    "# df = pd.DataFrame(columns=['token', 'ner_tag'])\n",
    "# for index, row in data.iterrows():\n",
    "#     for token, ner in zip(row[0], row[1]):\n",
    "#         df = df.append({'token':token, 'ner_tag':ner}, ignore_index=True)"
   ]
  },
  {
   "cell_type": "code",
   "execution_count": 13,
   "metadata": {},
   "outputs": [],
   "source": [
    "# path = \"data/MIT_movie_NER/original_files/trivia10k13train.bio\"\n",
    "# save_path = \"data/MIT_movie_NER/csv_format/trivia_training.csv\"\n",
    "\n",
    "# data = pd.read_csv(path, header=None)\n",
    "# df = pd.DataFrame(columns=[\"token\", \"ner_tag\"])\n",
    "# df['token'], df['ner_tag'] = list(zip(*data[0].str.split(\"\\t\")))\n",
    "# df.to_csv(save_path)"
   ]
  },
  {
   "cell_type": "code",
   "execution_count": 64,
   "metadata": {},
   "outputs": [
    {
     "output_type": "execute_result",
     "data": {
      "text/plain": [
       "                                              sentences  \\\n",
       "0     [need, that, movie, which, involves, aliens, i...   \n",
       "1     [what, soviet, science, fiction, classic, abou...   \n",
       "2     [this, american, classic, based, on, margaret,...   \n",
       "3     [what, is, the, movie, starring, jessica, biel...   \n",
       "4     [in, this, movie, ryan, reynolds, plays, a, su...   \n",
       "...                                                 ...   \n",
       "1948  [while, frodo, and, sam, edge, closer, to, mor...   \n",
       "1949          [who, directed, the, movie, dirty, dozen]   \n",
       "1950  [you, might, be, able, to, land, a, plane, on,...   \n",
       "1951  [young, victor, conducts, a, science, experime...   \n",
       "1952  [zac, efron, is, the, title, character, in, th...   \n",
       "\n",
       "                                                   tags  \n",
       "0     [O, O, O, O, O, B-Plot, I-Plot, I-Plot, I-Plot...  \n",
       "1     [O, B-Genre, I-Genre, I-Genre, B-Opinion, O, B...  \n",
       "2     [O, B-Genre, I-Genre, O, O, B-Origin, I-Origin...  \n",
       "3     [O, O, O, O, O, B-Actor, I-Actor, O, B-Year, O...  \n",
       "4     [O, O, O, B-Actor, I-Actor, O, O, B-Plot, I-Pl...  \n",
       "...                                                 ...  \n",
       "1948  [O, B-Character_Name, O, B-Character_Name, B-P...  \n",
       "1949                                 [O, O, O, O, O, O]  \n",
       "1950  [O, O, O, O, O, O, O, O, O, O, B-Character_Nam...  \n",
       "1951  [O, B-Character_Name, B-Plot, I-Plot, I-Plot, ...  \n",
       "1952  [B-Actor, I-Actor, O, O, O, O, O, O, B-Year, B...  \n",
       "\n",
       "[1953 rows x 2 columns]"
      ],
      "text/html": "<div>\n<style scoped>\n    .dataframe tbody tr th:only-of-type {\n        vertical-align: middle;\n    }\n\n    .dataframe tbody tr th {\n        vertical-align: top;\n    }\n\n    .dataframe thead th {\n        text-align: right;\n    }\n</style>\n<table border=\"1\" class=\"dataframe\">\n  <thead>\n    <tr style=\"text-align: right;\">\n      <th></th>\n      <th>sentences</th>\n      <th>tags</th>\n    </tr>\n  </thead>\n  <tbody>\n    <tr>\n      <th>0</th>\n      <td>[need, that, movie, which, involves, aliens, i...</td>\n      <td>[O, O, O, O, O, B-Plot, I-Plot, I-Plot, I-Plot...</td>\n    </tr>\n    <tr>\n      <th>1</th>\n      <td>[what, soviet, science, fiction, classic, abou...</td>\n      <td>[O, B-Genre, I-Genre, I-Genre, B-Opinion, O, B...</td>\n    </tr>\n    <tr>\n      <th>2</th>\n      <td>[this, american, classic, based, on, margaret,...</td>\n      <td>[O, B-Genre, I-Genre, O, O, B-Origin, I-Origin...</td>\n    </tr>\n    <tr>\n      <th>3</th>\n      <td>[what, is, the, movie, starring, jessica, biel...</td>\n      <td>[O, O, O, O, O, B-Actor, I-Actor, O, B-Year, O...</td>\n    </tr>\n    <tr>\n      <th>4</th>\n      <td>[in, this, movie, ryan, reynolds, plays, a, su...</td>\n      <td>[O, O, O, B-Actor, I-Actor, O, O, B-Plot, I-Pl...</td>\n    </tr>\n    <tr>\n      <th>...</th>\n      <td>...</td>\n      <td>...</td>\n    </tr>\n    <tr>\n      <th>1948</th>\n      <td>[while, frodo, and, sam, edge, closer, to, mor...</td>\n      <td>[O, B-Character_Name, O, B-Character_Name, B-P...</td>\n    </tr>\n    <tr>\n      <th>1949</th>\n      <td>[who, directed, the, movie, dirty, dozen]</td>\n      <td>[O, O, O, O, O, O]</td>\n    </tr>\n    <tr>\n      <th>1950</th>\n      <td>[you, might, be, able, to, land, a, plane, on,...</td>\n      <td>[O, O, O, O, O, O, O, O, O, O, B-Character_Nam...</td>\n    </tr>\n    <tr>\n      <th>1951</th>\n      <td>[young, victor, conducts, a, science, experime...</td>\n      <td>[O, B-Character_Name, B-Plot, I-Plot, I-Plot, ...</td>\n    </tr>\n    <tr>\n      <th>1952</th>\n      <td>[zac, efron, is, the, title, character, in, th...</td>\n      <td>[B-Actor, I-Actor, O, O, O, O, O, O, B-Year, B...</td>\n    </tr>\n  </tbody>\n</table>\n<p>1953 rows × 2 columns</p>\n</div>"
     },
     "metadata": {},
     "execution_count": 64
    }
   ],
   "source": [
    "data"
   ]
  },
  {
   "cell_type": "code",
   "execution_count": 21,
   "metadata": {},
   "outputs": [],
   "source": [
    "mapper_list = ['B-Actor',\n",
    " 'B-Award',\n",
    " 'B-Character_Name',\n",
    " 'B-Director',\n",
    " 'B-Genre',\n",
    " 'B-Opinion',\n",
    " 'B-Origin',\n",
    " 'B-Plot',\n",
    " 'B-Quote',\n",
    " 'B-Relationship',\n",
    " 'B-Soundtrack',\n",
    " 'B-Year',\n",
    " 'I-Actor',\n",
    " 'I-Award',\n",
    " 'I-Character_Name',\n",
    " 'I-Director',\n",
    " 'I-Genre',\n",
    " 'I-Opinion',\n",
    " 'I-Origin',\n",
    " 'I-Plot',\n",
    " 'I-Quote',\n",
    " 'I-Relationship',\n",
    " 'I-Soundtrack',\n",
    " 'I-Year',\n",
    " 'O']"
   ]
  },
  {
   "cell_type": "code",
   "execution_count": 22,
   "metadata": {},
   "outputs": [],
   "source": [
    "mapper = {}\n",
    "i = 0\n",
    "for each in mapper_list:\n",
    "    mapper[each] = i\n",
    "    i = i+1"
   ]
  },
  {
   "cell_type": "code",
   "execution_count": 23,
   "metadata": {},
   "outputs": [
    {
     "output_type": "execute_result",
     "data": {
      "text/plain": [
       "{'B-Actor': 0,\n",
       " 'B-Award': 1,\n",
       " 'B-Character_Name': 2,\n",
       " 'B-Director': 3,\n",
       " 'B-Genre': 4,\n",
       " 'B-Opinion': 5,\n",
       " 'B-Origin': 6,\n",
       " 'B-Plot': 7,\n",
       " 'B-Quote': 8,\n",
       " 'B-Relationship': 9,\n",
       " 'B-Soundtrack': 10,\n",
       " 'B-Year': 11,\n",
       " 'I-Actor': 12,\n",
       " 'I-Award': 13,\n",
       " 'I-Character_Name': 14,\n",
       " 'I-Director': 15,\n",
       " 'I-Genre': 16,\n",
       " 'I-Opinion': 17,\n",
       " 'I-Origin': 18,\n",
       " 'I-Plot': 19,\n",
       " 'I-Quote': 20,\n",
       " 'I-Relationship': 21,\n",
       " 'I-Soundtrack': 22,\n",
       " 'I-Year': 23,\n",
       " 'O': 24}"
      ]
     },
     "metadata": {},
     "execution_count": 23
    }
   ],
   "source": [
    "mapper"
   ]
  },
  {
   "cell_type": "code",
   "execution_count": 65,
   "metadata": {},
   "outputs": [],
   "source": [
    "data[\"ner_tags\"] = data.tags.apply(lambda f:[mapper [x] for x in f])"
   ]
  },
  {
   "cell_type": "code",
   "execution_count": 66,
   "metadata": {},
   "outputs": [],
   "source": [
    "data = data.drop(columns=\"tags\").rename(columns={\"sentences\":\"tokens\"})"
   ]
  },
  {
   "cell_type": "code",
   "execution_count": 67,
   "metadata": {},
   "outputs": [],
   "source": [
    "for_json_list = []\n",
    "for index, row in data.iterrows():\n",
    "    for_json_list.append({\n",
    "        \"id\" : index,\n",
    "        \"tokens\" : row[0],\n",
    "        \"ner_tags\" : row[1]    })"
   ]
  },
  {
   "cell_type": "code",
   "execution_count": 68,
   "metadata": {},
   "outputs": [],
   "source": [
    "for_json = {}\n",
    "for i in range(len(for_json_list)):\n",
    "    for_json[i] = for_json_list[i]\n"
   ]
  },
  {
   "cell_type": "code",
   "execution_count": 46,
   "metadata": {},
   "outputs": [],
   "source": [
    "# data.to_csv(\"data/MIT_movie_NER/csv_format/trivia_training.csv\")"
   ]
  },
  {
   "cell_type": "code",
   "execution_count": 69,
   "metadata": {},
   "outputs": [],
   "source": [
    "f = open(\"data/MIT_movie_NER/dict_structure/trivia_testing.json\", \"w\")\n",
    "json.dump(for_json, f)"
   ]
  },
  {
   "cell_type": "code",
   "execution_count": null,
   "metadata": {},
   "outputs": [],
   "source": []
  }
 ]
}