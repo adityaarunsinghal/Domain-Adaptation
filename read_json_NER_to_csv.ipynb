{
 "metadata": {
  "language_info": {
   "codemirror_mode": {
    "name": "ipython",
    "version": 3
   },
   "file_extension": ".py",
   "mimetype": "text/x-python",
   "name": "python",
   "nbconvert_exporter": "python",
   "pygments_lexer": "ipython3",
   "version": "3.8.6"
  },
  "orig_nbformat": 2,
  "kernelspec": {
   "name": "pythonjvsc74a57bd02858890bae232c5a2eafb41676f76863dbb689e94c5d0ec3cf4073896e5bad9e",
   "display_name": "Python 3.8.6 64-bit"
  },
  "metadata": {
   "interpreter": {
    "hash": "2858890bae232c5a2eafb41676f76863dbb689e94c5d0ec3cf4073896e5bad9e"
   }
  }
 },
 "nbformat": 4,
 "nbformat_minor": 2,
 "cells": [
  {
   "cell_type": "code",
   "execution_count": 1,
   "metadata": {},
   "outputs": [],
   "source": [
    "import pandas as pd\n",
    "import joblib\n",
    "import random\n",
    "import json"
   ]
  },
  {
   "cell_type": "code",
   "execution_count": 43,
   "metadata": {},
   "outputs": [],
   "source": [
    "f = open(\"data/MIT_movie_NER/dict_structure/trivia_training.json\", \"r\")\n",
    "data = pd.DataFrame(json.load(f))"
   ]
  },
  {
   "cell_type": "code",
   "execution_count": 3,
   "metadata": {
    "tags": []
   },
   "outputs": [],
   "source": [
    "# df = pd.DataFrame(columns=['token', 'ner_tag'])\n",
    "# for index, row in data.iterrows():\n",
    "#     for token, ner in zip(row[0], row[1]):\n",
    "#         df = df.append({'token':token, 'ner_tag':ner}, ignore_index=True)"
   ]
  },
  {
   "cell_type": "code",
   "execution_count": 13,
   "metadata": {},
   "outputs": [],
   "source": [
    "# path = \"data/MIT_movie_NER/original_files/trivia10k13train.bio\"\n",
    "# save_path = \"data/MIT_movie_NER/csv_format/trivia_training.csv\"\n",
    "\n",
    "# data = pd.read_csv(path, header=None)\n",
    "# df = pd.DataFrame(columns=[\"token\", \"ner_tag\"])\n",
    "# df['token'], df['ner_tag'] = list(zip(*data[0].str.split(\"\\t\")))\n",
    "# df.to_csv(save_path)"
   ]
  },
  {
   "cell_type": "code",
   "execution_count": 19,
   "metadata": {},
   "outputs": [
    {
     "output_type": "execute_result",
     "data": {
      "text/plain": [
       "                                              sentences  \\\n",
       "0     [need, that, movie, which, involves, aliens, i...   \n",
       "1     [what, soviet, science, fiction, classic, abou...   \n",
       "2     [this, american, classic, based, on, margaret,...   \n",
       "3     [what, is, the, movie, starring, jessica, biel...   \n",
       "4     [in, this, movie, ryan, reynolds, plays, a, su...   \n",
       "...                                                 ...   \n",
       "1948  [while, frodo, and, sam, edge, closer, to, mor...   \n",
       "1949          [who, directed, the, movie, dirty, dozen]   \n",
       "1950  [you, might, be, able, to, land, a, plane, on,...   \n",
       "1951  [young, victor, conducts, a, science, experime...   \n",
       "1952  [zac, efron, is, the, title, character, in, th...   \n",
       "\n",
       "                                                   tags  \n",
       "0     [O, O, O, O, O, B-Plot, I-Plot, I-Plot, I-Plot...  \n",
       "1     [O, B-Genre, I-Genre, I-Genre, B-Opinion, O, B...  \n",
       "2     [O, B-Genre, I-Genre, O, O, B-Origin, I-Origin...  \n",
       "3     [O, O, O, O, O, B-Actor, I-Actor, O, B-Year, O...  \n",
       "4     [O, O, O, B-Actor, I-Actor, O, O, B-Plot, I-Pl...  \n",
       "...                                                 ...  \n",
       "1948  [O, B-Character_Name, O, B-Character_Name, B-P...  \n",
       "1949                                 [O, O, O, O, O, O]  \n",
       "1950  [O, O, O, O, O, O, O, O, O, O, B-Character_Nam...  \n",
       "1951  [O, B-Character_Name, B-Plot, I-Plot, I-Plot, ...  \n",
       "1952  [B-Actor, I-Actor, O, O, O, O, O, O, B-Year, B...  \n",
       "\n",
       "[1953 rows x 2 columns]"
      ],
      "text/html": "<div>\n<style scoped>\n    .dataframe tbody tr th:only-of-type {\n        vertical-align: middle;\n    }\n\n    .dataframe tbody tr th {\n        vertical-align: top;\n    }\n\n    .dataframe thead th {\n        text-align: right;\n    }\n</style>\n<table border=\"1\" class=\"dataframe\">\n  <thead>\n    <tr style=\"text-align: right;\">\n      <th></th>\n      <th>sentences</th>\n      <th>tags</th>\n    </tr>\n  </thead>\n  <tbody>\n    <tr>\n      <th>0</th>\n      <td>[need, that, movie, which, involves, aliens, i...</td>\n      <td>[O, O, O, O, O, B-Plot, I-Plot, I-Plot, I-Plot...</td>\n    </tr>\n    <tr>\n      <th>1</th>\n      <td>[what, soviet, science, fiction, classic, abou...</td>\n      <td>[O, B-Genre, I-Genre, I-Genre, B-Opinion, O, B...</td>\n    </tr>\n    <tr>\n      <th>2</th>\n      <td>[this, american, classic, based, on, margaret,...</td>\n      <td>[O, B-Genre, I-Genre, O, O, B-Origin, I-Origin...</td>\n    </tr>\n    <tr>\n      <th>3</th>\n      <td>[what, is, the, movie, starring, jessica, biel...</td>\n      <td>[O, O, O, O, O, B-Actor, I-Actor, O, B-Year, O...</td>\n    </tr>\n    <tr>\n      <th>4</th>\n      <td>[in, this, movie, ryan, reynolds, plays, a, su...</td>\n      <td>[O, O, O, B-Actor, I-Actor, O, O, B-Plot, I-Pl...</td>\n    </tr>\n    <tr>\n      <th>...</th>\n      <td>...</td>\n      <td>...</td>\n    </tr>\n    <tr>\n      <th>1948</th>\n      <td>[while, frodo, and, sam, edge, closer, to, mor...</td>\n      <td>[O, B-Character_Name, O, B-Character_Name, B-P...</td>\n    </tr>\n    <tr>\n      <th>1949</th>\n      <td>[who, directed, the, movie, dirty, dozen]</td>\n      <td>[O, O, O, O, O, O]</td>\n    </tr>\n    <tr>\n      <th>1950</th>\n      <td>[you, might, be, able, to, land, a, plane, on,...</td>\n      <td>[O, O, O, O, O, O, O, O, O, O, B-Character_Nam...</td>\n    </tr>\n    <tr>\n      <th>1951</th>\n      <td>[young, victor, conducts, a, science, experime...</td>\n      <td>[O, B-Character_Name, B-Plot, I-Plot, I-Plot, ...</td>\n    </tr>\n    <tr>\n      <th>1952</th>\n      <td>[zac, efron, is, the, title, character, in, th...</td>\n      <td>[B-Actor, I-Actor, O, O, O, O, O, O, B-Year, B...</td>\n    </tr>\n  </tbody>\n</table>\n<p>1953 rows × 2 columns</p>\n</div>"
     },
     "metadata": {},
     "execution_count": 19
    }
   ],
   "source": [
    "data"
   ]
  },
  {
   "cell_type": "code",
   "execution_count": 21,
   "metadata": {},
   "outputs": [],
   "source": [
    "mapper_list = ['B-Actor',\n",
    " 'B-Award',\n",
    " 'B-Character_Name',\n",
    " 'B-Director',\n",
    " 'B-Genre',\n",
    " 'B-Opinion',\n",
    " 'B-Origin',\n",
    " 'B-Plot',\n",
    " 'B-Quote',\n",
    " 'B-Relationship',\n",
    " 'B-Soundtrack',\n",
    " 'B-Year',\n",
    " 'I-Actor',\n",
    " 'I-Award',\n",
    " 'I-Character_Name',\n",
    " 'I-Director',\n",
    " 'I-Genre',\n",
    " 'I-Opinion',\n",
    " 'I-Origin',\n",
    " 'I-Plot',\n",
    " 'I-Quote',\n",
    " 'I-Relationship',\n",
    " 'I-Soundtrack',\n",
    " 'I-Year',\n",
    " 'O']"
   ]
  },
  {
   "cell_type": "code",
   "execution_count": 22,
   "metadata": {},
   "outputs": [],
   "source": [
    "mapper = {}\n",
    "i = 0\n",
    "for each in mapper_list:\n",
    "    mapper[each] = i\n",
    "    i = i+1"
   ]
  },
  {
   "cell_type": "code",
   "execution_count": 23,
   "metadata": {},
   "outputs": [
    {
     "output_type": "execute_result",
     "data": {
      "text/plain": [
       "{'B-Actor': 0,\n",
       " 'B-Award': 1,\n",
       " 'B-Character_Name': 2,\n",
       " 'B-Director': 3,\n",
       " 'B-Genre': 4,\n",
       " 'B-Opinion': 5,\n",
       " 'B-Origin': 6,\n",
       " 'B-Plot': 7,\n",
       " 'B-Quote': 8,\n",
       " 'B-Relationship': 9,\n",
       " 'B-Soundtrack': 10,\n",
       " 'B-Year': 11,\n",
       " 'I-Actor': 12,\n",
       " 'I-Award': 13,\n",
       " 'I-Character_Name': 14,\n",
       " 'I-Director': 15,\n",
       " 'I-Genre': 16,\n",
       " 'I-Opinion': 17,\n",
       " 'I-Origin': 18,\n",
       " 'I-Plot': 19,\n",
       " 'I-Quote': 20,\n",
       " 'I-Relationship': 21,\n",
       " 'I-Soundtrack': 22,\n",
       " 'I-Year': 23,\n",
       " 'O': 24}"
      ]
     },
     "metadata": {},
     "execution_count": 23
    }
   ],
   "source": [
    "mapper"
   ]
  },
  {
   "cell_type": "code",
   "execution_count": 44,
   "metadata": {},
   "outputs": [],
   "source": [
    "data[\"ner_tags\"] = data.tags.apply(lambda f:[mapper [x] for x in f])"
   ]
  },
  {
   "cell_type": "code",
   "execution_count": 45,
   "metadata": {},
   "outputs": [],
   "source": [
    "data = data.drop(columns=\"tags\").rename(columns={\"sentences\":\"tokens\"})"
   ]
  },
  {
   "cell_type": "code",
   "execution_count": 38,
   "metadata": {},
   "outputs": [],
   "source": [
    "for_json = []\n",
    "for index, row in data.iterrows():\n",
    "    for_json.append({\n",
    "        \"id\" : index,\n",
    "        \"tokens\" : row[0],\n",
    "        \"ner_tags\" : row[1]    })"
   ]
  },
  {
   "cell_type": "code",
   "execution_count": 40,
   "metadata": {},
   "outputs": [],
   "source": [
    "# for_json"
   ]
  },
  {
   "cell_type": "code",
   "execution_count": 46,
   "metadata": {},
   "outputs": [],
   "source": [
    "data.to_csv(\"data/MIT_movie_NER/csv_format/trivia_training.csv\")"
   ]
  },
  {
   "cell_type": "code",
   "execution_count": null,
   "metadata": {},
   "outputs": [],
   "source": []
  }
 ]
}