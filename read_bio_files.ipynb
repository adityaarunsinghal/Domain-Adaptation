{
 "metadata": {
  "language_info": {
   "codemirror_mode": {
    "name": "ipython",
    "version": 3
   },
   "file_extension": ".py",
   "mimetype": "text/x-python",
   "name": "python",
   "nbconvert_exporter": "python",
   "pygments_lexer": "ipython3",
   "version": "3.8.2-final"
  },
  "orig_nbformat": 2,
  "kernelspec": {
   "name": "python3",
   "display_name": "Python 3.8.2 64-bit ('forCCM': venv)",
   "metadata": {
    "interpreter": {
     "hash": "4d09eef9f917fec9b375ec52441916c34baf9cca52a78b9ac28a5f122f33341a"
    }
   }
  }
 },
 "nbformat": 4,
 "nbformat_minor": 2,
 "cells": [
  {
   "cell_type": "code",
   "execution_count": 1,
   "metadata": {},
   "outputs": [],
   "source": [
    "import pandas as pd\n",
    "import joblib"
   ]
  },
  {
   "cell_type": "code",
   "execution_count": 2,
   "metadata": {},
   "outputs": [],
   "source": [
    "# defining function to read files and store as nested lists\n",
    "\n",
    "def read_bio(filepath):\n",
    "    f = open(filepath, 'r')\n",
    "    data = pd.DataFrame(f, columns=[\"line\"])\n",
    "    f.close()\n",
    "\n",
    "    breaks = [0]\n",
    "    breaks.extend(list(data[data.line==\"\\n\"].index))\n",
    "    labels = {}\n",
    "    tokens = {}\n",
    "    for i in range(len(breaks)-1):\n",
    "        # print(i)\n",
    "        labels[i] = []\n",
    "        tokens[i] = []\n",
    "        for j in range(breaks[i]+1, breaks[i+1]):\n",
    "            line = data.loc[j, \"line\"]\n",
    "            tokens[i].append(line.split(\"\\t\")[1][:-1])\n",
    "            labels[i].append(line.split(\"\\t\")[0])\n",
    "\n",
    "    return (list(tokens.values()), list(labels.values()))"
   ]
  },
  {
   "cell_type": "code",
   "execution_count": 3,
   "metadata": {},
   "outputs": [],
   "source": [
    "X_train, y_train = read_bio(\"data/MIT_movie/engtrain.bio\")\n",
    "X_test, y_test = read_bio(\"data/MIT_movie/engtest.bio\")\n",
    "trivia_X_train, trivia_y_train = read_bio(\"data/MIT_movie/trivia10k13train.bio\")\n",
    "trivia_X_test, trivia_y_test = read_bio(\"data/MIT_movie/trivia10k13test.bio\")"
   ]
  },
  {
   "cell_type": "code",
   "execution_count": 4,
   "metadata": {},
   "outputs": [
    {
     "output_type": "execute_result",
     "data": {
      "text/plain": [
       "['data/MIT_movie/trivia_y_test']"
      ]
     },
     "metadata": {},
     "execution_count": 4
    }
   ],
   "source": [
    "joblib.dump(X_train, \"data/MIT_movie/X_train\")\n",
    "joblib.dump(y_train, \"data/MIT_movie/y_train\")\n",
    "joblib.dump(X_test, \"data/MIT_movie/X_test\")\n",
    "joblib.dump(y_test, \"data/MIT_movie/y_test\")\n",
    "joblib.dump(trivia_X_train, \"data/MIT_movie/trivia_X_train\")\n",
    "joblib.dump(trivia_y_train, \"data/MIT_movie/trivia_y_train\")\n",
    "joblib.dump(trivia_X_test, \"data/MIT_movie/trivia_X_test\")\n",
    "joblib.dump(trivia_y_test, \"data/MIT_movie/trivia_y_test\")"
   ]
  }
 ]
}