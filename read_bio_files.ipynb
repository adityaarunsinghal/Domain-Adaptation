{
 "metadata": {
  "language_info": {
   "codemirror_mode": {
    "name": "ipython",
    "version": 3
   },
   "file_extension": ".py",
   "mimetype": "text/x-python",
   "name": "python",
   "nbconvert_exporter": "python",
   "pygments_lexer": "ipython3",
   "version": "3.8.2-final"
  },
  "orig_nbformat": 2,
  "kernelspec": {
   "name": "python3",
   "display_name": "Python 3.8.2 64-bit ('forCCM': venv)",
   "metadata": {
    "interpreter": {
     "hash": "4d09eef9f917fec9b375ec52441916c34baf9cca52a78b9ac28a5f122f33341a"
    }
   }
  }
 },
 "nbformat": 4,
 "nbformat_minor": 2,
 "cells": [
  {
   "cell_type": "code",
   "execution_count": 18,
   "metadata": {},
   "outputs": [],
   "source": [
    "import pandas as pd\n",
    "import joblib\n",
    "import random"
   ]
  },
  {
   "cell_type": "code",
   "execution_count": 61,
   "metadata": {},
   "outputs": [],
   "source": [
    "# defining function to read files and store as nested lists\n",
    "\n",
    "def read_wiki(filepath):\n",
    "    data = pd.read_csv(filepath, sep=\"\\t\")\n",
    "    data.columns = ['question', 'answer']\n",
    "    data['question'] = data.question.apply(lambda x: x[2:])\n",
    "    data.set_index('question', inplace=True)\n",
    "    return data"
   ]
  },
  {
   "cell_type": "code",
   "execution_count": 62,
   "metadata": {},
   "outputs": [],
   "source": [
    "read_wiki(\"movie_roberta/data/full_qa_train.txt\").to_csv(\"movie_roberta/data/full_qa_train.csv\")\n",
    "read_wiki(\"movie_roberta/data/full_qa_dev.txt\").to_csv(\"movie_roberta/data/full_qa_dev.csv\")\n",
    "read_wiki(\"movie_roberta/data/full_qa_test.txt\").to_csv(\"movie_roberta/data/full_qa_test.csv\")"
   ]
  }
 ]
}