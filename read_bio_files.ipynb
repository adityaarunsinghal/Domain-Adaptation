{
 "metadata": {
  "language_info": {
   "codemirror_mode": {
    "name": "ipython",
    "version": 3
   },
   "file_extension": ".py",
   "mimetype": "text/x-python",
   "name": "python",
   "nbconvert_exporter": "python",
   "pygments_lexer": "ipython3",
   "version": "2.7.16-final"
  },
  "orig_nbformat": 2,
  "kernelspec": {
   "name": "python3",
   "display_name": "Python 2.7.16 64-bit ('domain')",
   "metadata": {
    "interpreter": {
     "hash": "9d1615575a7d537b6ee537e41328441bde2e472fe1b058d16fae32f436586301"
    }
   }
  }
 },
 "nbformat": 4,
 "nbformat_minor": 2,
 "cells": [
  {
   "cell_type": "code",
   "execution_count": 23,
   "metadata": {},
   "outputs": [],
   "source": [
    "import pandas as pd\n",
    "import joblib\n",
    "import random"
   ]
  },
  {
   "cell_type": "code",
   "execution_count": 2,
   "metadata": {},
   "outputs": [],
   "source": [
    "# defining function to read files and store as nested lists\n",
    "\n",
    "def read_bio(filepath):\n",
    "    f = open(filepath, 'r')\n",
    "    data = pd.DataFrame(f, columns=[\"line\"])\n",
    "    f.close()\n",
    "\n",
    "    breaks = [0]\n",
    "    breaks.extend(list(data[data.line==\"\\n\"].index))\n",
    "    labels = {}\n",
    "    tokens = {}\n",
    "    for i in range(len(breaks)-1):\n",
    "        # print(i)\n",
    "        labels[i] = []\n",
    "        tokens[i] = []\n",
    "        for j in range(breaks[i]+1, breaks[i+1]):\n",
    "            line = data.loc[j, \"line\"]\n",
    "            tokens[i].append(line.split(\"\\t\")[1][:-1])\n",
    "            labels[i].append(line.split(\"\\t\")[0])\n",
    "\n",
    "    return (list(tokens.values()), list(labels.values()))"
   ]
  },
  {
   "cell_type": "code",
   "execution_count": 3,
   "metadata": {},
   "outputs": [],
   "source": [
    "X_train, y_train = read_bio(\"data/MIT_movie/original_files/engtrain.bio\")\n",
    "X_test, y_test = read_bio(\"data/MIT_movie/original_files/engtest.bio\")\n",
    "trivia_X_train, trivia_y_train = read_bio(\"data/MIT_movie/original_files/trivia10k13train.bio\")\n",
    "trivia_X_test, trivia_y_test = read_bio(\"data/MIT_movie/original_files/trivia10k13test.bio\")"
   ]
  },
  {
   "cell_type": "code",
   "execution_count": 25,
   "metadata": {},
   "outputs": [],
   "source": [
    "# random.seed(42)\n",
    "# random.shuffle(X_train)\n",
    "\n",
    "val_cutoff = round(0.2*len(X_train))\n",
    "X_val = X_train[:val_cutoff]\n",
    "X_train = X_train[val_cutoff:]\n",
    "y_val = y_train[:val_cutoff]\n",
    "y_train = y_train[val_cutoff:]\n",
    "\n",
    "trivia_val_cutoff = round(0.2*len(trivia_X_train))\n",
    "trivia_X_val = trivia_X_train[:trivia_val_cutoff]\n",
    "trivia_X_train = trivia_X_train[trivia_val_cutoff:]\n",
    "trivia_y_val = trivia_y_train[:trivia_val_cutoff]\n",
    "trivia_y_train = trivia_y_train[trivia_val_cutoff:]"
   ]
  },
  {
   "cell_type": "code",
   "execution_count": 26,
   "metadata": {},
   "outputs": [
    {
     "output_type": "execute_result",
     "data": {
      "text/plain": [
       "['data/MIT_movie/trivia_y_val']"
      ]
     },
     "metadata": {},
     "execution_count": 26
    }
   ],
   "source": [
    "joblib.dump(X_train, \"data/MIT_movie/nested_lists/X_train\")\n",
    "joblib.dump(y_train, \"data/MIT_movie/nested_lists/y_train\")\n",
    "joblib.dump(X_test, \"data/MIT_movie/nested_lists/X_test\")\n",
    "joblib.dump(y_test, \"data/MIT_movie/nested_lists/y_test\")\n",
    "joblib.dump(X_val, \"data/MIT_movie/nested_lists/X_val\")\n",
    "joblib.dump(y_val, \"data/MIT_movie/nested_lists/y_val\")\n",
    "joblib.dump(trivia_X_train, \"data/MIT_movie/nested_lists/trivia_X_train\")\n",
    "joblib.dump(trivia_y_train, \"data/MIT_movie/nested_lists/trivia_y_train\")\n",
    "joblib.dump(trivia_X_test, \"data/MIT_movie/nested_lists/trivia_X_test\")\n",
    "joblib.dump(trivia_y_test, \"data/MIT_movie/nested_lists/trivia_X_test\")\n",
    "joblib.dump(trivia_X_val, \"data/MIT_movie/nested_lists/trivia_X_val\")\n",
    "joblib.dump(trivia_y_val, \"data/MIT_movie/nested_lists/trivia_y_val\")"
   ]
  },
  {
   "cell_type": "code",
   "execution_count": 27,
   "metadata": {},
   "outputs": [
    {
     "output_type": "execute_result",
     "data": {
      "text/plain": [
       "['data/MIT_movie/dict_structure/testing.dict']"
      ]
     },
     "metadata": {},
     "execution_count": 27
    }
   ],
   "source": [
    "training = {}\n",
    "validation = {}\n",
    "testing = {}\n",
    "trivia_training = {}\n",
    "trivia_validation = {}\n",
    "trivia_testing = {}\n",
    "\n",
    "trivia_training['sentences'] = trivia_X_train\n",
    "trivia_training['tags'] = trivia_y_train\n",
    "trivia_validation['sentences'] = trivia_X_val\n",
    "trivia_validation['tags'] = trivia_y_val\n",
    "trivia_testing['sentences'] = trivia_X_test\n",
    "trivia_testing['tags'] = trivia_y_test\n",
    "\n",
    "training['sentences'] = X_train\n",
    "training['tags'] = y_train\n",
    "validation['sentences'] = X_val\n",
    "validation['tags'] = y_val\n",
    "testing['sentences'] = X_test\n",
    "testing['tags'] = y_test\n",
    "\n",
    "\n",
    "joblib.dump(trivia_training, \"data/MIT_movie/dict_structure/trivia_training.dict\")\n",
    "joblib.dump(trivia_validation, \"data/MIT_movie/dict_structure/trivia_validation.dict\")\n",
    "joblib.dump(trivia_testing, \"data/MIT_movie/dict_structure/trivia_testing.dict\")\n",
    "joblib.dump(training, \"data/MIT_movie/dict_structure/training.dict\")\n",
    "joblib.dump(validation, \"data/MIT_movie/dict_structure/validation.dict\")\n",
    "joblib.dump(testing, \"data/MIT_movie/dict_structure/testing.dict\")"
   ]
  },
  {
   "source": [
    "## Checking the different possible BIO tags we have"
   ],
   "cell_type": "markdown",
   "metadata": {}
  },
  {
   "cell_type": "code",
   "execution_count": 17,
   "metadata": {},
   "outputs": [],
   "source": [
    "# Normal NER\n",
    "\n",
    "train_tag_scheme = []\n",
    "for each_list in y_train:\n",
    "    for each in set(each_list):\n",
    "        if each not in train_tag_scheme:\n",
    "            train_tag_scheme.append(each)\n",
    "\n",
    "train_tag_scheme.sort()"
   ]
  },
  {
   "cell_type": "code",
   "execution_count": 18,
   "metadata": {},
   "outputs": [
    {
     "output_type": "execute_result",
     "data": {
      "text/plain": [
       "['B-ACTOR',\n",
       " 'B-CHARACTER',\n",
       " 'B-DIRECTOR',\n",
       " 'B-GENRE',\n",
       " 'B-PLOT',\n",
       " 'B-RATING',\n",
       " 'B-RATINGS_AVERAGE',\n",
       " 'B-REVIEW',\n",
       " 'B-SONG',\n",
       " 'B-TITLE',\n",
       " 'B-TRAILER',\n",
       " 'B-YEAR',\n",
       " 'I-ACTOR',\n",
       " 'I-CHARACTER',\n",
       " 'I-DIRECTOR',\n",
       " 'I-GENRE',\n",
       " 'I-PLOT',\n",
       " 'I-RATING',\n",
       " 'I-RATINGS_AVERAGE',\n",
       " 'I-REVIEW',\n",
       " 'I-SONG',\n",
       " 'I-TITLE',\n",
       " 'I-TRAILER',\n",
       " 'I-YEAR',\n",
       " 'O']"
      ]
     },
     "metadata": {},
     "execution_count": 18
    }
   ],
   "source": [
    "train_tag_scheme"
   ]
  },
  {
   "cell_type": "code",
   "execution_count": 19,
   "metadata": {},
   "outputs": [],
   "source": [
    "# trivia NER\n",
    "\n",
    "trivia_tag_scheme = []\n",
    "for each_list in trivia_y_train:\n",
    "    for each in set(each_list):\n",
    "        if each not in trivia_tag_scheme:\n",
    "            trivia_tag_scheme.append(each)\n",
    "            \n",
    "trivia_tag_scheme.sort()"
   ]
  },
  {
   "cell_type": "code",
   "execution_count": 20,
   "metadata": {},
   "outputs": [
    {
     "output_type": "execute_result",
     "data": {
      "text/plain": [
       "['B-Actor',\n",
       " 'B-Award',\n",
       " 'B-Character_Name',\n",
       " 'B-Director',\n",
       " 'B-Genre',\n",
       " 'B-Opinion',\n",
       " 'B-Origin',\n",
       " 'B-Plot',\n",
       " 'B-Quote',\n",
       " 'B-Relationship',\n",
       " 'B-Soundtrack',\n",
       " 'B-Year',\n",
       " 'I-Actor',\n",
       " 'I-Award',\n",
       " 'I-Character_Name',\n",
       " 'I-Director',\n",
       " 'I-Genre',\n",
       " 'I-Opinion',\n",
       " 'I-Origin',\n",
       " 'I-Plot',\n",
       " 'I-Quote',\n",
       " 'I-Relationship',\n",
       " 'I-Soundtrack',\n",
       " 'I-Year',\n",
       " 'O']"
      ]
     },
     "metadata": {},
     "execution_count": 20
    }
   ],
   "source": [
    "trivia_tag_scheme"
   ]
  }
 ]
}