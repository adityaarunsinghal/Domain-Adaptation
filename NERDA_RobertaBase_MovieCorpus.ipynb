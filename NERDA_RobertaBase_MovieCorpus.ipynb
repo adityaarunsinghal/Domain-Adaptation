{
 "metadata": {
  "language_info": {
   "codemirror_mode": {
    "name": "ipython",
    "version": 3
   },
   "file_extension": ".py",
   "mimetype": "text/x-python",
   "name": "python",
   "nbconvert_exporter": "python",
   "pygments_lexer": "ipython3",
   "version": "3.8.2-final"
  },
  "orig_nbformat": 2,
  "kernelspec": {
   "name": "python3",
   "display_name": "Python 3.8.2 64-bit ('forCCM')",
   "metadata": {
    "interpreter": {
     "hash": "4d09eef9f917fec9b375ec52441916c34baf9cca52a78b9ac28a5f122f33341a"
    }
   }
  }
 },
 "nbformat": 4,
 "nbformat_minor": 2,
 "cells": [
  {
   "source": [
    "following : \"https://towardsdatascience.com/easy-fine-tuning-of-transformers-for-named-entity-recognition-d72f2b5340e3\""
   ],
   "cell_type": "markdown",
   "metadata": {}
  },
  {
   "cell_type": "code",
   "execution_count": 5,
   "metadata": {},
   "outputs": [],
   "source": [
    "import joblib\n",
    "import pandas as pd\n",
    "import NERDA\n",
    "import transformers"
   ]
  },
  {
   "cell_type": "code",
   "execution_count": 5,
   "metadata": {},
   "outputs": [
    {
     "output_type": "stream",
     "name": "stdout",
     "text": [
      "Reading https://data.deepai.org/conll2003.zip\n"
     ]
    }
   ],
   "source": [
    "training = joblib.load(\"data/MIT_movie/dict_structure/training.dict\")\n",
    "validation = joblib.load(\"data/MIT_movie/dict_structure/validation.dict\")"
   ]
  },
  {
   "cell_type": "code",
   "execution_count": 3,
   "metadata": {},
   "outputs": [],
   "source": [
    "tag_scheme = ['B-ACTOR',\n",
    " 'B-CHARACTER',\n",
    " 'B-DIRECTOR',\n",
    " 'B-GENRE',\n",
    " 'B-PLOT',\n",
    " 'B-RATING',\n",
    " 'B-RATINGS_AVERAGE',\n",
    " 'B-REVIEW',\n",
    " 'B-SONG',\n",
    " 'B-TITLE',\n",
    " 'B-TRAILER',\n",
    " 'B-YEAR',\n",
    " 'I-ACTOR',\n",
    " 'I-CHARACTER',\n",
    " 'I-DIRECTOR',\n",
    " 'I-GENRE',\n",
    " 'I-PLOT',\n",
    " 'I-RATING',\n",
    " 'I-RATINGS_AVERAGE',\n",
    " 'I-REVIEW',\n",
    " 'I-SONG',\n",
    " 'I-TITLE',\n",
    " 'I-TRAILER',\n",
    " 'I-YEAR',\n",
    " 'O']"
   ]
  },
  {
   "cell_type": "code",
   "execution_count": 4,
   "metadata": {},
   "outputs": [],
   "source": [
    "transformer = 'distilroberta-base' #just to try for now"
   ]
  },
  {
   "cell_type": "code",
   "execution_count": null,
   "metadata": {},
   "outputs": [],
   "source": []
  }
 ]
}